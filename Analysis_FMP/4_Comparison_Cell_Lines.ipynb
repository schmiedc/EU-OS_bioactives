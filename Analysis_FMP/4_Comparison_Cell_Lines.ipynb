{
 "cells": [
  {
   "cell_type": "code",
   "execution_count": 1,
   "id": "2c5b1539",
   "metadata": {},
   "outputs": [],
   "source": [
    "from datetime import date\n",
    "import pandas as pd\n",
    "import os\n",
    "import glob\n",
    "import matplotlib.pyplot as plt\n",
    "import numpy as np\n",
    "from matplotlib_venn import venn2 "
   ]
  },
  {
   "cell_type": "code",
   "execution_count": 2,
   "id": "635c3545",
   "metadata": {},
   "outputs": [],
   "source": [
    "# load custom collection of functions\n",
    "import sys\n",
    "sys.path.append('/home/schmiedc/FMP_Docs/Projects/Bioactives_data/notebooks/')\n",
    "import utility_functions as UTIL"
   ]
  },
  {
   "cell_type": "code",
   "execution_count": 3,
   "id": "b5c96d4f",
   "metadata": {},
   "outputs": [],
   "source": [
    "parent_directory = \"/home/schmiedc/FMP_Docs/Projects/Bioactives_data/\"\n",
    "\n",
    "input_path = parent_directory + \"results/\"\n",
    "output_path = input_path\n",
    "\n",
    "figure_path = parent_directory + \"figures/\""
   ]
  },
  {
   "cell_type": "markdown",
   "id": "376224dd",
   "metadata": {},
   "source": [
    "# Feature Comparison between cell lines"
   ]
  },
  {
   "cell_type": "code",
   "execution_count": 4,
   "id": "f2e30e36",
   "metadata": {},
   "outputs": [
    {
     "data": {
      "text/plain": [
       "(1345, 742)"
      ]
     },
     "execution_count": 4,
     "metadata": {},
     "output_type": "execute_result"
    }
   ],
   "source": [
    "file_U2OS_Median_type = '/*[0-9]_' + 'FMP_U2OS_norm_reduced_filtered_median.csv'\n",
    "files_U2OS_Median = glob.glob(input_path + file_U2OS_Median_type)\n",
    "\n",
    "### gets latest file\n",
    "max_file_U2OS_Median = max(files_U2OS_Median, key=os.path.getctime)\n",
    "\n",
    "### load file\n",
    "data_U2OS_Median = pd.read_csv(max_file_U2OS_Median)\n",
    "data_U2OS_Median.shape"
   ]
  },
  {
   "cell_type": "code",
   "execution_count": 5,
   "id": "813bc7d1",
   "metadata": {},
   "outputs": [
    {
     "data": {
      "text/plain": [
       "(801, 658)"
      ]
     },
     "execution_count": 5,
     "metadata": {},
     "output_type": "execute_result"
    }
   ],
   "source": [
    "file_HepG2_Median_type = '/*[0-9]_' + 'FMP_HepG2_norm_reduced_filtered_median.csv'\n",
    "files_HepG2_Median = glob.glob(input_path + file_HepG2_Median_type)\n",
    "\n",
    "### gets latest file\n",
    "max_file_HepG2_Median = max(files_HepG2_Median, key=os.path.getctime)\n",
    "\n",
    "### load file\n",
    "data_HepG2_Median = pd.read_csv(max_file_HepG2_Median)\n",
    "data_HepG2_Median.shape"
   ]
  },
  {
   "cell_type": "code",
   "execution_count": 6,
   "id": "d1374047",
   "metadata": {},
   "outputs": [],
   "source": [
    "key_col = [\"Metadata_EOS\", \"Metadata_Plate\", \"Metadata_Concentration\", \"Metadata_Partner\"]\n",
    "U2OS_feature_df = data_U2OS_Median.drop(columns=key_col)"
   ]
  },
  {
   "cell_type": "code",
   "execution_count": 7,
   "id": "6a769c15",
   "metadata": {},
   "outputs": [],
   "source": [
    "key_col = [\"Metadata_EOS\", \"Metadata_Plate\", \"Metadata_Concentration\", \"Metadata_Partner\"]\n",
    "HepG2_feature_df = data_HepG2_Median.drop(columns=key_col)"
   ]
  },
  {
   "cell_type": "code",
   "execution_count": 8,
   "id": "952125c4",
   "metadata": {},
   "outputs": [],
   "source": [
    "venn_1 = U2OS_feature_df.columns\n",
    "venn_2 = HepG2_feature_df.columns\n",
    "venn_3 = list(set(venn_1) & set(venn_2))"
   ]
  },
  {
   "cell_type": "code",
   "execution_count": 9,
   "id": "77c9ac39",
   "metadata": {},
   "outputs": [
    {
     "data": {
      "image/png": "[encoded data removed]",
      "text/plain": [
       "<Figure size 432x288 with 1 Axes>"
      ]
     },
     "metadata": {},
     "output_type": "display_data"
    }
   ],
   "source": [
    "\n",
    "venn2(\n",
    "    subsets = (len(venn_1) - len(venn_3), \n",
    "               len(venn_2) - len(venn_3), \n",
    "               len(venn_3)), \n",
    "    set_labels = ('U2OS', 'HepG2'))\n",
    "\n",
    "plt.savefig(figure_path + str(date.today()) + '_FMP_FeatureOverlap.pdf',  dpi=300)\n",
    "plt.show()"
   ]
  },
  {
   "cell_type": "markdown",
   "id": "ca9380b0",
   "metadata": {},
   "source": [
    "# Compound comparison after filters"
   ]
  },
  {
   "cell_type": "code",
   "execution_count": 10,
   "id": "fdaf8611",
   "metadata": {},
   "outputs": [],
   "source": [
    "venn_1_cpd = data_U2OS_Median[\"Metadata_EOS\"].unique()"
   ]
  },
  {
   "cell_type": "code",
   "execution_count": 11,
   "id": "f790dce4",
   "metadata": {},
   "outputs": [],
   "source": [
    "venn_2_cpd = data_HepG2_Median[\"Metadata_EOS\"].unique()"
   ]
  },
  {
   "cell_type": "code",
   "execution_count": 12,
   "id": "d7a93d9d",
   "metadata": {},
   "outputs": [],
   "source": [
    "venn_3_cpd = list(set(venn_1_cpd) & set(venn_2_cpd ))"
   ]
  },
  {
   "cell_type": "code",
   "execution_count": 13,
   "id": "7a3d382f",
   "metadata": {},
   "outputs": [
    {
     "data": {
      "image/png": "[encoded data removed]",
      "text/plain": [
       "<Figure size 432x288 with 1 Axes>"
      ]
     },
     "metadata": {},
     "output_type": "display_data"
    }
   ],
   "source": [
    "venn2(\n",
    "    subsets = (len(venn_1_cpd) - len(venn_3_cpd), \n",
    "               len(venn_2_cpd) - len(venn_3_cpd), \n",
    "               len(venn_3_cpd)), \n",
    "    set_labels = ('U2OS', 'HepG2'))\n",
    "\n",
    "plt.savefig(figure_path + str(date.today()) + '_FMP_CompoundOverlap.pdf',  dpi=300)\n",
    "plt.show()"
   ]
  },
  {
   "cell_type": "markdown",
   "id": "95dc3fed",
   "metadata": {},
   "source": [
    "# %Pairing"
   ]
  },
  {
   "cell_type": "code",
   "execution_count": 14,
   "id": "538d2c8c",
   "metadata": {},
   "outputs": [],
   "source": [
    "# add a column for cell type\n",
    "data_U2OS_Median['Metadata_Cell_type'] = 'U2OS'\n",
    "data_HepG2_Median['Metadata_Cell_type'] = 'HepG2'\n",
    "\n",
    "# modify Metadata_EOS to include CellType Info\n",
    "data_U2OS_Median['Metadata_EOS_mod'] = 'U2OS_' + data_U2OS_Median['Metadata_EOS'].astype(str)\n",
    "data_HepG2_Median['Metadata_EOS_mod'] = 'HepG2_' + data_HepG2_Median['Metadata_EOS'].astype(str)"
   ]
  },
  {
   "cell_type": "code",
   "execution_count": 15,
   "id": "bbfc0e09",
   "metadata": {},
   "outputs": [
    {
     "data": {
      "text/html": [
       "<div>\n",
       "<style scoped>\n",
       "    .dataframe tbody tr th:only-of-type {\n",
       "        vertical-align: middle;\n",
       "    }\n",
       "\n",
       "    .dataframe tbody tr th {\n",
       "        vertical-align: top;\n",
       "    }\n",
       "\n",
       "    .dataframe thead th {\n",
       "        text-align: right;\n",
       "    }\n",
       "</style>\n",
       "<table border=\"1\" class=\"dataframe\">\n",
       "  <thead>\n",
       "    <tr style=\"text-align: right;\">\n",
       "      <th></th>\n",
       "      <th>Nuc_AreaShape_BoundingBoxArea</th>\n",
       "      <th>Nuc_AreaShape_BoundingBoxMinimum_X</th>\n",
       "      <th>Nuc_AreaShape_Compactness</th>\n",
       "      <th>Nuc_AreaShape_Extent</th>\n",
       "      <th>Nuc_AreaShape_FormFactor</th>\n",
       "      <th>Nuc_AreaShape_MinFeretDiameter</th>\n",
       "      <th>Nuc_AreaShape_Orientation</th>\n",
       "      <th>Nuc_AreaShape_Zernike_0_0</th>\n",
       "      <th>Nuc_AreaShape_Zernike_1_1</th>\n",
       "      <th>Nuc_AreaShape_Zernike_3_1</th>\n",
       "      <th>...</th>\n",
       "      <th>Cyto_Texture_InverseDifferenceMoment_DNA_10_01_256</th>\n",
       "      <th>Cyto_Texture_InverseDifferenceMoment_DNA_10_03_256</th>\n",
       "      <th>Cyto_Texture_InverseDifferenceMoment_DNA_3_00_256</th>\n",
       "      <th>Cyto_Texture_InverseDifferenceMoment_DNA_3_01_256</th>\n",
       "      <th>Cyto_Texture_InverseDifferenceMoment_DNA_3_03_256</th>\n",
       "      <th>Cyto_Texture_InverseDifferenceMoment_DNA_5_00_256</th>\n",
       "      <th>Cyto_Texture_InverseDifferenceMoment_ER_10_01_256</th>\n",
       "      <th>Cyto_Texture_InverseDifferenceMoment_ER_5_03_256</th>\n",
       "      <th>Cyto_Texture_InverseDifferenceMoment_Mito_3_02_256</th>\n",
       "      <th>Cyto_Texture_SumAverage_DNA_3_00_256</th>\n",
       "    </tr>\n",
       "  </thead>\n",
       "  <tbody>\n",
       "    <tr>\n",
       "      <th>0</th>\n",
       "      <td>1.440663</td>\n",
       "      <td>0.137165</td>\n",
       "      <td>0.032665</td>\n",
       "      <td>0.383985</td>\n",
       "      <td>-0.031743</td>\n",
       "      <td>0.945128</td>\n",
       "      <td>-0.922458</td>\n",
       "      <td>0.230116</td>\n",
       "      <td>-0.363261</td>\n",
       "      <td>-0.849232</td>\n",
       "      <td>...</td>\n",
       "      <td>0.454941</td>\n",
       "      <td>0.701808</td>\n",
       "      <td>-0.197835</td>\n",
       "      <td>0.067684</td>\n",
       "      <td>0.435924</td>\n",
       "      <td>-0.215480</td>\n",
       "      <td>-5.825556</td>\n",
       "      <td>-5.148229</td>\n",
       "      <td>0.700623</td>\n",
       "      <td>-0.305906</td>\n",
       "    </tr>\n",
       "    <tr>\n",
       "      <th>1</th>\n",
       "      <td>-1.117691</td>\n",
       "      <td>-0.654842</td>\n",
       "      <td>-1.214050</td>\n",
       "      <td>0.785816</td>\n",
       "      <td>1.230209</td>\n",
       "      <td>-0.094179</td>\n",
       "      <td>0.919382</td>\n",
       "      <td>0.084490</td>\n",
       "      <td>-0.084183</td>\n",
       "      <td>-0.736096</td>\n",
       "      <td>...</td>\n",
       "      <td>0.380581</td>\n",
       "      <td>0.901834</td>\n",
       "      <td>-0.184844</td>\n",
       "      <td>-0.156313</td>\n",
       "      <td>-0.027029</td>\n",
       "      <td>-0.161276</td>\n",
       "      <td>-6.895279</td>\n",
       "      <td>-8.010751</td>\n",
       "      <td>0.656034</td>\n",
       "      <td>-0.633295</td>\n",
       "    </tr>\n",
       "    <tr>\n",
       "      <th>2</th>\n",
       "      <td>0.516064</td>\n",
       "      <td>0.422545</td>\n",
       "      <td>-0.608222</td>\n",
       "      <td>0.431334</td>\n",
       "      <td>0.613920</td>\n",
       "      <td>0.531860</td>\n",
       "      <td>-0.279905</td>\n",
       "      <td>0.025747</td>\n",
       "      <td>-0.413593</td>\n",
       "      <td>-0.058359</td>\n",
       "      <td>...</td>\n",
       "      <td>-0.148488</td>\n",
       "      <td>-0.018259</td>\n",
       "      <td>-0.140854</td>\n",
       "      <td>-0.180894</td>\n",
       "      <td>0.449831</td>\n",
       "      <td>-0.088635</td>\n",
       "      <td>-6.155957</td>\n",
       "      <td>-7.204564</td>\n",
       "      <td>0.324453</td>\n",
       "      <td>0.176756</td>\n",
       "    </tr>\n",
       "    <tr>\n",
       "      <th>3</th>\n",
       "      <td>0.479638</td>\n",
       "      <td>-1.041602</td>\n",
       "      <td>0.120032</td>\n",
       "      <td>-0.773869</td>\n",
       "      <td>-0.119307</td>\n",
       "      <td>0.332956</td>\n",
       "      <td>-0.215418</td>\n",
       "      <td>0.812983</td>\n",
       "      <td>0.027583</td>\n",
       "      <td>0.124506</td>\n",
       "      <td>...</td>\n",
       "      <td>1.164191</td>\n",
       "      <td>2.095741</td>\n",
       "      <td>1.275829</td>\n",
       "      <td>0.761223</td>\n",
       "      <td>1.731913</td>\n",
       "      <td>1.017425</td>\n",
       "      <td>-5.340155</td>\n",
       "      <td>-5.854969</td>\n",
       "      <td>0.648607</td>\n",
       "      <td>-1.668410</td>\n",
       "    </tr>\n",
       "    <tr>\n",
       "      <th>4</th>\n",
       "      <td>-0.825903</td>\n",
       "      <td>-1.989842</td>\n",
       "      <td>2.551672</td>\n",
       "      <td>-1.588957</td>\n",
       "      <td>-2.521092</td>\n",
       "      <td>-0.492455</td>\n",
       "      <td>0.247237</td>\n",
       "      <td>-1.690293</td>\n",
       "      <td>0.548846</td>\n",
       "      <td>1.480170</td>\n",
       "      <td>...</td>\n",
       "      <td>2.560441</td>\n",
       "      <td>1.898461</td>\n",
       "      <td>2.977098</td>\n",
       "      <td>1.746517</td>\n",
       "      <td>2.424811</td>\n",
       "      <td>1.402149</td>\n",
       "      <td>-4.561538</td>\n",
       "      <td>-4.766277</td>\n",
       "      <td>-0.832318</td>\n",
       "      <td>-2.575370</td>\n",
       "    </tr>\n",
       "    <tr>\n",
       "      <th>...</th>\n",
       "      <td>...</td>\n",
       "      <td>...</td>\n",
       "      <td>...</td>\n",
       "      <td>...</td>\n",
       "      <td>...</td>\n",
       "      <td>...</td>\n",
       "      <td>...</td>\n",
       "      <td>...</td>\n",
       "      <td>...</td>\n",
       "      <td>...</td>\n",
       "      <td>...</td>\n",
       "      <td>...</td>\n",
       "      <td>...</td>\n",
       "      <td>...</td>\n",
       "      <td>...</td>\n",
       "      <td>...</td>\n",
       "      <td>...</td>\n",
       "      <td>...</td>\n",
       "      <td>...</td>\n",
       "      <td>...</td>\n",
       "      <td>...</td>\n",
       "    </tr>\n",
       "    <tr>\n",
       "      <th>1340</th>\n",
       "      <td>-5.940437</td>\n",
       "      <td>-1.154408</td>\n",
       "      <td>-2.597152</td>\n",
       "      <td>1.838084</td>\n",
       "      <td>2.646222</td>\n",
       "      <td>-6.258452</td>\n",
       "      <td>-0.252842</td>\n",
       "      <td>2.335009</td>\n",
       "      <td>-2.027038</td>\n",
       "      <td>-2.759873</td>\n",
       "      <td>...</td>\n",
       "      <td>-0.186774</td>\n",
       "      <td>-0.504228</td>\n",
       "      <td>-0.383892</td>\n",
       "      <td>-1.033565</td>\n",
       "      <td>-1.360566</td>\n",
       "      <td>-1.243480</td>\n",
       "      <td>-7.458249</td>\n",
       "      <td>-8.749268</td>\n",
       "      <td>-1.425795</td>\n",
       "      <td>-0.229327</td>\n",
       "    </tr>\n",
       "    <tr>\n",
       "      <th>1341</th>\n",
       "      <td>-3.203831</td>\n",
       "      <td>-0.318979</td>\n",
       "      <td>-3.649772</td>\n",
       "      <td>1.142472</td>\n",
       "      <td>3.718083</td>\n",
       "      <td>-3.745342</td>\n",
       "      <td>0.194710</td>\n",
       "      <td>2.662289</td>\n",
       "      <td>-1.025668</td>\n",
       "      <td>-1.839443</td>\n",
       "      <td>...</td>\n",
       "      <td>-0.779351</td>\n",
       "      <td>-0.502939</td>\n",
       "      <td>-0.389363</td>\n",
       "      <td>-1.020524</td>\n",
       "      <td>-0.582878</td>\n",
       "      <td>-1.101915</td>\n",
       "      <td>-7.581201</td>\n",
       "      <td>-9.513997</td>\n",
       "      <td>-2.420485</td>\n",
       "      <td>0.483885</td>\n",
       "    </tr>\n",
       "    <tr>\n",
       "      <th>1342</th>\n",
       "      <td>-5.528179</td>\n",
       "      <td>-0.589292</td>\n",
       "      <td>-3.009349</td>\n",
       "      <td>0.926135</td>\n",
       "      <td>3.063894</td>\n",
       "      <td>-3.850279</td>\n",
       "      <td>0.030385</td>\n",
       "      <td>2.453100</td>\n",
       "      <td>0.152311</td>\n",
       "      <td>-0.782241</td>\n",
       "      <td>...</td>\n",
       "      <td>-0.872124</td>\n",
       "      <td>-0.736734</td>\n",
       "      <td>-0.523877</td>\n",
       "      <td>-0.166548</td>\n",
       "      <td>-0.367597</td>\n",
       "      <td>-1.116832</td>\n",
       "      <td>-8.037041</td>\n",
       "      <td>-11.434007</td>\n",
       "      <td>-2.261589</td>\n",
       "      <td>0.852471</td>\n",
       "    </tr>\n",
       "    <tr>\n",
       "      <th>1343</th>\n",
       "      <td>-3.115342</td>\n",
       "      <td>0.177287</td>\n",
       "      <td>-2.797453</td>\n",
       "      <td>1.927819</td>\n",
       "      <td>2.840048</td>\n",
       "      <td>-3.112574</td>\n",
       "      <td>-0.377835</td>\n",
       "      <td>2.721053</td>\n",
       "      <td>-1.294433</td>\n",
       "      <td>-1.838167</td>\n",
       "      <td>...</td>\n",
       "      <td>-2.346639</td>\n",
       "      <td>-2.130821</td>\n",
       "      <td>-1.300297</td>\n",
       "      <td>-1.427095</td>\n",
       "      <td>-1.982340</td>\n",
       "      <td>-1.729525</td>\n",
       "      <td>-10.618737</td>\n",
       "      <td>-11.466515</td>\n",
       "      <td>-2.085251</td>\n",
       "      <td>1.617136</td>\n",
       "    </tr>\n",
       "    <tr>\n",
       "      <th>1344</th>\n",
       "      <td>-4.190131</td>\n",
       "      <td>-0.614536</td>\n",
       "      <td>-3.610675</td>\n",
       "      <td>1.569528</td>\n",
       "      <td>3.685914</td>\n",
       "      <td>-4.512572</td>\n",
       "      <td>-0.271867</td>\n",
       "      <td>2.191621</td>\n",
       "      <td>-0.615813</td>\n",
       "      <td>-2.072663</td>\n",
       "      <td>...</td>\n",
       "      <td>-0.323692</td>\n",
       "      <td>0.343078</td>\n",
       "      <td>-0.405210</td>\n",
       "      <td>-0.258280</td>\n",
       "      <td>-0.237221</td>\n",
       "      <td>-0.775285</td>\n",
       "      <td>-7.060272</td>\n",
       "      <td>-8.484829</td>\n",
       "      <td>-2.209159</td>\n",
       "      <td>0.265038</td>\n",
       "    </tr>\n",
       "  </tbody>\n",
       "</table>\n",
       "<p>1345 rows × 738 columns</p>\n",
       "</div>"
      ],
      "text/plain": [
       "      Nuc_AreaShape_BoundingBoxArea  Nuc_AreaShape_BoundingBoxMinimum_X  \\\n",
       "0                          1.440663                            0.137165   \n",
       "1                         -1.117691                           -0.654842   \n",
       "2                          0.516064                            0.422545   \n",
       "3                          0.479638                           -1.041602   \n",
       "4                         -0.825903                           -1.989842   \n",
       "...                             ...                                 ...   \n",
       "1340                      -5.940437                           -1.154408   \n",
       "1341                      -3.203831                           -0.318979   \n",
       "1342                      -5.528179                           -0.589292   \n",
       "1343                      -3.115342                            0.177287   \n",
       "1344                      -4.190131                           -0.614536   \n",
       "\n",
       "      Nuc_AreaShape_Compactness  Nuc_AreaShape_Extent  \\\n",
       "0                      0.032665              0.383985   \n",
       "1                     -1.214050              0.785816   \n",
       "2                     -0.608222              0.431334   \n",
       "3                      0.120032             -0.773869   \n",
       "4                      2.551672             -1.588957   \n",
       "...                         ...                   ...   \n",
       "1340                  -2.597152              1.838084   \n",
       "1341                  -3.649772              1.142472   \n",
       "1342                  -3.009349              0.926135   \n",
       "1343                  -2.797453              1.927819   \n",
       "1344                  -3.610675              1.569528   \n",
       "\n",
       "      Nuc_AreaShape_FormFactor  Nuc_AreaShape_MinFeretDiameter  \\\n",
       "0                    -0.031743                        0.945128   \n",
       "1                     1.230209                       -0.094179   \n",
       "2                     0.613920                        0.531860   \n",
       "3                    -0.119307                        0.332956   \n",
       "4                    -2.521092                       -0.492455   \n",
       "...                        ...                             ...   \n",
       "1340                  2.646222                       -6.258452   \n",
       "1341                  3.718083                       -3.745342   \n",
       "1342                  3.063894                       -3.850279   \n",
       "1343                  2.840048                       -3.112574   \n",
       "1344                  3.685914                       -4.512572   \n",
       "\n",
       "      Nuc_AreaShape_Orientation  Nuc_AreaShape_Zernike_0_0  \\\n",
       "0                     -0.922458                   0.230116   \n",
       "1                      0.919382                   0.084490   \n",
       "2                     -0.279905                   0.025747   \n",
       "3                     -0.215418                   0.812983   \n",
       "4                      0.247237                  -1.690293   \n",
       "...                         ...                        ...   \n",
       "1340                  -0.252842                   2.335009   \n",
       "1341                   0.194710                   2.662289   \n",
       "1342                   0.030385                   2.453100   \n",
       "1343                  -0.377835                   2.721053   \n",
       "1344                  -0.271867                   2.191621   \n",
       "\n",
       "      Nuc_AreaShape_Zernike_1_1  Nuc_AreaShape_Zernike_3_1  ...  \\\n",
       "0                     -0.363261                  -0.849232  ...   \n",
       "1                     -0.084183                  -0.736096  ...   \n",
       "2                     -0.413593                  -0.058359  ...   \n",
       "3                      0.027583                   0.124506  ...   \n",
       "4                      0.548846                   1.480170  ...   \n",
       "...                         ...                        ...  ...   \n",
       "1340                  -2.027038                  -2.759873  ...   \n",
       "1341                  -1.025668                  -1.839443  ...   \n",
       "1342                   0.152311                  -0.782241  ...   \n",
       "1343                  -1.294433                  -1.838167  ...   \n",
       "1344                  -0.615813                  -2.072663  ...   \n",
       "\n",
       "      Cyto_Texture_InverseDifferenceMoment_DNA_10_01_256  \\\n",
       "0                                              0.454941    \n",
       "1                                              0.380581    \n",
       "2                                             -0.148488    \n",
       "3                                              1.164191    \n",
       "4                                              2.560441    \n",
       "...                                                 ...    \n",
       "1340                                          -0.186774    \n",
       "1341                                          -0.779351    \n",
       "1342                                          -0.872124    \n",
       "1343                                          -2.346639    \n",
       "1344                                          -0.323692    \n",
       "\n",
       "      Cyto_Texture_InverseDifferenceMoment_DNA_10_03_256  \\\n",
       "0                                              0.701808    \n",
       "1                                              0.901834    \n",
       "2                                             -0.018259    \n",
       "3                                              2.095741    \n",
       "4                                              1.898461    \n",
       "...                                                 ...    \n",
       "1340                                          -0.504228    \n",
       "1341                                          -0.502939    \n",
       "1342                                          -0.736734    \n",
       "1343                                          -2.130821    \n",
       "1344                                           0.343078    \n",
       "\n",
       "      Cyto_Texture_InverseDifferenceMoment_DNA_3_00_256  \\\n",
       "0                                             -0.197835   \n",
       "1                                             -0.184844   \n",
       "2                                             -0.140854   \n",
       "3                                              1.275829   \n",
       "4                                              2.977098   \n",
       "...                                                 ...   \n",
       "1340                                          -0.383892   \n",
       "1341                                          -0.389363   \n",
       "1342                                          -0.523877   \n",
       "1343                                          -1.300297   \n",
       "1344                                          -0.405210   \n",
       "\n",
       "      Cyto_Texture_InverseDifferenceMoment_DNA_3_01_256  \\\n",
       "0                                              0.067684   \n",
       "1                                             -0.156313   \n",
       "2                                             -0.180894   \n",
       "3                                              0.761223   \n",
       "4                                              1.746517   \n",
       "...                                                 ...   \n",
       "1340                                          -1.033565   \n",
       "1341                                          -1.020524   \n",
       "1342                                          -0.166548   \n",
       "1343                                          -1.427095   \n",
       "1344                                          -0.258280   \n",
       "\n",
       "      Cyto_Texture_InverseDifferenceMoment_DNA_3_03_256  \\\n",
       "0                                              0.435924   \n",
       "1                                             -0.027029   \n",
       "2                                              0.449831   \n",
       "3                                              1.731913   \n",
       "4                                              2.424811   \n",
       "...                                                 ...   \n",
       "1340                                          -1.360566   \n",
       "1341                                          -0.582878   \n",
       "1342                                          -0.367597   \n",
       "1343                                          -1.982340   \n",
       "1344                                          -0.237221   \n",
       "\n",
       "      Cyto_Texture_InverseDifferenceMoment_DNA_5_00_256  \\\n",
       "0                                             -0.215480   \n",
       "1                                             -0.161276   \n",
       "2                                             -0.088635   \n",
       "3                                              1.017425   \n",
       "4                                              1.402149   \n",
       "...                                                 ...   \n",
       "1340                                          -1.243480   \n",
       "1341                                          -1.101915   \n",
       "1342                                          -1.116832   \n",
       "1343                                          -1.729525   \n",
       "1344                                          -0.775285   \n",
       "\n",
       "      Cyto_Texture_InverseDifferenceMoment_ER_10_01_256  \\\n",
       "0                                             -5.825556   \n",
       "1                                             -6.895279   \n",
       "2                                             -6.155957   \n",
       "3                                             -5.340155   \n",
       "4                                             -4.561538   \n",
       "...                                                 ...   \n",
       "1340                                          -7.458249   \n",
       "1341                                          -7.581201   \n",
       "1342                                          -8.037041   \n",
       "1343                                         -10.618737   \n",
       "1344                                          -7.060272   \n",
       "\n",
       "      Cyto_Texture_InverseDifferenceMoment_ER_5_03_256  \\\n",
       "0                                            -5.148229   \n",
       "1                                            -8.010751   \n",
       "2                                            -7.204564   \n",
       "3                                            -5.854969   \n",
       "4                                            -4.766277   \n",
       "...                                                ...   \n",
       "1340                                         -8.749268   \n",
       "1341                                         -9.513997   \n",
       "1342                                        -11.434007   \n",
       "1343                                        -11.466515   \n",
       "1344                                         -8.484829   \n",
       "\n",
       "      Cyto_Texture_InverseDifferenceMoment_Mito_3_02_256  \\\n",
       "0                                              0.700623    \n",
       "1                                              0.656034    \n",
       "2                                              0.324453    \n",
       "3                                              0.648607    \n",
       "4                                             -0.832318    \n",
       "...                                                 ...    \n",
       "1340                                          -1.425795    \n",
       "1341                                          -2.420485    \n",
       "1342                                          -2.261589    \n",
       "1343                                          -2.085251    \n",
       "1344                                          -2.209159    \n",
       "\n",
       "      Cyto_Texture_SumAverage_DNA_3_00_256  \n",
       "0                                -0.305906  \n",
       "1                                -0.633295  \n",
       "2                                 0.176756  \n",
       "3                                -1.668410  \n",
       "4                                -2.575370  \n",
       "...                                    ...  \n",
       "1340                             -0.229327  \n",
       "1341                              0.483885  \n",
       "1342                              0.852471  \n",
       "1343                              1.617136  \n",
       "1344                              0.265038  \n",
       "\n",
       "[1345 rows x 738 columns]"
      ]
     },
     "execution_count": 15,
     "metadata": {},
     "output_type": "execute_result"
    }
   ],
   "source": [
    "UTIL.get_featuredata(data_U2OS_Median)"
   ]
  },
  {
   "cell_type": "code",
   "execution_count": 16,
   "id": "37168648",
   "metadata": {},
   "outputs": [],
   "source": [
    "n_samples = 10000\n",
    "\n",
    "modality_1_df = data_U2OS_Median\n",
    "modality_2_df = data_HepG2_Median\n",
    "modality_1_perturbation = \"U2OS\"\n",
    "modality_2_perturbation = \"HepG2\"\n",
    "\n",
    "signal = UTIL.correlation_between_modalities(modality_1_df,\n",
    "                                        modality_2_df,\n",
    "                                        modality_1_perturbation,\n",
    "                                        modality_2_perturbation,\n",
    "                                        'Metadata_EOS',\n",
    "                                        'Metadata_EOS_mod')"
   ]
  },
  {
   "cell_type": "code",
   "execution_count": 17,
   "id": "2c76a832",
   "metadata": {},
   "outputs": [],
   "source": [
    "null = UTIL.null_correlation_between_modalities(modality_1_df,\n",
    "                                           modality_2_df,\n",
    "                                           modality_1_perturbation,\n",
    "                                           modality_2_perturbation,\n",
    "                                           'Metadata_EOS',\n",
    "                                           'Metadata_EOS_mod',\n",
    "                                           n_samples)\n",
    "\n",
    "prop_5_95, value_95 = UTIL.percent_score(null, signal, how='right')"
   ]
  },
  {
   "cell_type": "code",
   "execution_count": 18,
   "id": "12cbb5df",
   "metadata": {
    "scrolled": true
   },
   "outputs": [
    {
     "data": {
      "text/plain": [
       "0.4253629548241003"
      ]
     },
     "execution_count": 18,
     "metadata": {},
     "output_type": "execute_result"
    }
   ],
   "source": [
    "perc_95 = np.nanpercentile(null, 95)\n",
    "perc_95"
   ]
  },
  {
   "cell_type": "code",
   "execution_count": 19,
   "id": "8e099144",
   "metadata": {},
   "outputs": [],
   "source": [
    "above_threshold = signal > perc_95"
   ]
  },
  {
   "cell_type": "code",
   "execution_count": 20,
   "id": "809aa191",
   "metadata": {},
   "outputs": [
    {
     "data": {
      "text/plain": [
       "0.25886524822695034"
      ]
     },
     "execution_count": 20,
     "metadata": {},
     "output_type": "execute_result"
    }
   ],
   "source": [
    "np.mean(above_threshold.astype(float))"
   ]
  },
  {
   "cell_type": "code",
   "execution_count": 21,
   "id": "ea60115c",
   "metadata": {},
   "outputs": [
    {
     "name": "stderr",
     "output_type": "stream",
     "text": [
      "<ipython-input-21-8a0c74ede8da>:2: FutureWarning: The frame.append method is deprecated and will be removed from pandas in a future version. Use pandas.concat instead.\n",
      "  corr_df = corr_df.append({'Description': 'U2OS vs. HepG2',\n"
     ]
    }
   ],
   "source": [
    "corr_df = pd.DataFrame()\n",
    "corr_df = corr_df.append({'Description': 'U2OS vs. HepG2',\n",
    "                           'Matching':signal,\n",
    "                           'Null_Matching':null,\n",
    "                           'Percent_Matching':'%.1f'%prop_5_95,\n",
    "                           'Value_95':value_95}, ignore_index=True)"
   ]
  },
  {
   "cell_type": "code",
   "execution_count": 22,
   "id": "2ad58455",
   "metadata": {},
   "outputs": [
    {
     "name": "stdout",
     "output_type": "stream",
     "text": [
      "| Description    |   Percent_Matching |\n",
      "|:---------------|-------------------:|\n",
      "| U2OS vs. HepG2 |               25.9 |\n"
     ]
    }
   ],
   "source": [
    "print(corr_df[['Description', 'Percent_Matching']].to_markdown(index=False))"
   ]
  },
  {
   "cell_type": "code",
   "execution_count": 23,
   "id": "f5cbd96b",
   "metadata": {},
   "outputs": [
    {
     "data": {
      "image/png": "[encoded data removed]",
      "text/plain": [
       "<Figure size 864x432 with 1 Axes>"
      ]
     },
     "metadata": {},
     "output_type": "display_data"
    }
   ],
   "source": [
    "UTIL.distribution_plot(df=corr_df, metric=\"Percent Matching\")\n",
    "\n",
    "plt.savefig(figure_path + str(date.today()) + \"_FMP_U2OS-HepG2_Percent_Pairing.pdf\", \n",
    "            transparent=False, \n",
    "            bbox_inches='tight', \n",
    "            dpi = 600)"
   ]
  }
 ],
 "metadata": {
  "kernelspec": {
   "display_name": "Python 3",
   "language": "python",
   "name": "python3"
  },
  "language_info": {
   "codemirror_mode": {
    "name": "ipython",
    "version": 3
   },
   "file_extension": ".py",
   "mimetype": "text/x-python",
   "name": "python",
   "nbconvert_exporter": "python",
   "pygments_lexer": "ipython3",
   "version": "3.9.16"
  }
 },
 "nbformat": 4,
 "nbformat_minor": 5
}
