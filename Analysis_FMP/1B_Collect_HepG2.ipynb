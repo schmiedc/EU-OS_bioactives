{
 "cells": [
  {
   "cell_type": "code",
   "execution_count": 1,
   "id": "c7d32612",
   "metadata": {},
   "outputs": [],
   "source": [
    "from datetime import date\n",
    "import pandas as pd\n",
    "import os\n",
    "import glob"
   ]
  },
  {
   "cell_type": "markdown",
   "id": "2672826a",
   "metadata": {},
   "source": [
    "# Load data FMP HepG2 dataset\n",
    "\n",
    "This notebook loads the aggregated data for the HepG2 data from the FMP"
   ]
  },
  {
   "cell_type": "code",
   "execution_count": 2,
   "id": "c5ba51e3",
   "metadata": {},
   "outputs": [],
   "source": [
    "parent_directory = \"/home/schmiedc/FMP_Docs/Projects/Bioactives_data/\"\n",
    "\n",
    "# Path \n",
    "data_path =  parent_directory  + \"aggregated_data/FMP_HepG2/\"\n",
    "save_path = parent_directory  + \"results/\"\n",
    "annot_path = parent_directory  + \"annotations/\""
   ]
  },
  {
   "cell_type": "code",
   "execution_count": 3,
   "id": "8e76cbaf",
   "metadata": {},
   "outputs": [
    {
     "name": "stdout",
     "output_type": "stream",
     "text": [
      "R1 B1001 has shape (382, 2981)\n",
      "R1 B1002 has shape (381, 2981)\n",
      "R1 B1003 has shape (381, 2981)\n",
      "R1 B1004 has shape (382, 2981)\n",
      "R1 B1005 has shape (380, 2981)\n",
      "R1 B1006 has shape (384, 2981)\n",
      "R1 B1007 has shape (382, 2981)\n",
      "R2 B1001 has shape (382, 2981)\n",
      "R2 B1002 has shape (382, 2981)\n",
      "R2 B1003 has shape (381, 2981)\n",
      "R2 B1004 has shape (383, 2981)\n",
      "R2 B1005 has shape (380, 2981)\n",
      "R2 B1006 has shape (384, 2981)\n",
      "R2 B1007 has shape (382, 2981)\n",
      "R3 B1001 has shape (383, 2981)\n",
      "R3 B1002 has shape (384, 2981)\n",
      "R3 B1003 has shape (382, 2981)\n",
      "R3 B1004 has shape (381, 2981)\n",
      "R3 B1005 has shape (382, 2981)\n",
      "R3 B1006 has shape (383, 2981)\n",
      "R3 B1007 has shape (382, 2981)\n",
      "R4 B1001 has shape (383, 2981)\n",
      "R4 B1002 has shape (383, 2981)\n",
      "R4 B1003 has shape (381, 2981)\n",
      "R4 B1004 has shape (382, 2981)\n",
      "R4 B1005 has shape (379, 2981)\n",
      "R4 B1006 has shape (384, 2981)\n",
      "R4 B1007 has shape (382, 2981)\n",
      "Aggregated Data has shape  (10697, 2981)\n"
     ]
    }
   ],
   "source": [
    "### loading latest data\n",
    "Data = []\n",
    "plates = [\"B1001\",\"B1002\",\"B1003\",\"B1004\",\"B1005\",\"B1006\",\"B1007\"]\n",
    "batches = [\"R1\", \"R2\", \"R3\", \"R4\"]\n",
    "path = data_path\n",
    "\n",
    "for batch in batches:\n",
    "    for plate in plates:\n",
    "    \n",
    "        file_type = '/*[0-9]_*' + batch + \"_\" + plate + \"_CP_Profiles_Aggregated.csv\"\n",
    "        \n",
    "        files_temp = glob.glob(path + file_type)\n",
    "        max_file = max(files_temp, key=os.path.getctime)\n",
    "    \n",
    "        ### load file\n",
    "        Data_Temp = pd.read_csv(max_file)\n",
    "        print(batch, plate, \"has shape\", Data_Temp.shape)  \n",
    "        ### put to list\n",
    "        Data.append(Data_Temp)\n",
    "\n",
    "### concat all batches together\n",
    "Data_aggregated = pd.concat(Data)\n",
    "Data_aggregated = Data_aggregated.reset_index(drop = True)\n",
    "\n",
    "print(\"Aggregated Data has shape \", Data_aggregated.shape)"
   ]
  },
  {
   "cell_type": "markdown",
   "id": "91a3c71a",
   "metadata": {},
   "source": [
    "# Load plate annotations\n",
    "\n",
    "This adds the matching annotations to associate the well with the EOS number"
   ]
  },
  {
   "cell_type": "code",
   "execution_count": 4,
   "id": "d93c7415",
   "metadata": {},
   "outputs": [
    {
     "data": {
      "text/plain": [
       "(10752, 6)"
      ]
     },
     "execution_count": 4,
     "metadata": {},
     "output_type": "execute_result"
    }
   ],
   "source": [
    "file_type = '/*[0-9]_' + 'Annotation_Bioactives_HepG2.csv'\n",
    "files = glob.glob(annot_path + file_type)\n",
    "\n",
    "### gets latest file\n",
    "max_file = max(files, key=os.path.getctime)\n",
    "\n",
    "### load file\n",
    "Annotation_Bioactives = pd.read_csv(max_file)\n",
    "Annotation_Bioactives.shape"
   ]
  },
  {
   "cell_type": "markdown",
   "id": "3f7e5789",
   "metadata": {},
   "source": [
    "## Merge in EOS number"
   ]
  },
  {
   "cell_type": "code",
   "execution_count": 5,
   "id": "b348c280",
   "metadata": {},
   "outputs": [
    {
     "name": "stdout",
     "output_type": "stream",
     "text": [
      "Aggregated and annotated Data has shape  (10697, 2984)\n"
     ]
    }
   ],
   "source": [
    "Data_Bioactives = pd.merge(\n",
    "    Annotation_Bioactives, \n",
    "    Data_aggregated, \n",
    "    on = [\"Metadata_Batch\", \"Metadata_Plate\", \"Metadata_Well\"], \n",
    "    how = \"inner\")\n",
    "        \n",
    "print(\"Aggregated and annotated Data has shape \", Data_Bioactives.shape)"
   ]
  },
  {
   "cell_type": "markdown",
   "id": "e78e596f",
   "metadata": {},
   "source": [
    "# Save raw data"
   ]
  },
  {
   "cell_type": "code",
   "execution_count": 6,
   "id": "52799811",
   "metadata": {},
   "outputs": [],
   "source": [
    "filename = save_path + str(date.today()) + \"_FMP_HepG2_raw.csv\"\n",
    "Data_Bioactives.to_csv(filename, index = False)"
   ]
  },
  {
   "cell_type": "markdown",
   "id": "f074d8f1",
   "metadata": {},
   "source": [
    "## Save missing data\n",
    "\n",
    "Missing data here means that there is no segmentation available. That means either the images were missing (unlikely) or there was not segmentation possible or failed. If the segmentation failed the wells could be empty from the beginning or that the cells are all dead from the application of the compound. \n",
    "\n",
    "Here we use it as an indication of toxicity. Although with missing wells these other explanation (no images, no cells applied) cannot be totally excluded."
   ]
  },
  {
   "cell_type": "code",
   "execution_count": 7,
   "id": "9d2b6fe4",
   "metadata": {},
   "outputs": [],
   "source": [
    "Data_Bioactives_missing = pd.merge(\n",
    "    Annotation_Bioactives, \n",
    "    Data_aggregated, \n",
    "    on = [\"Metadata_Batch\", \"Metadata_Plate\", \"Metadata_Well\"], \n",
    "    how = \"left\",\n",
    "    indicator = True)\n",
    "\n",
    "Data_Bioactives_missing = Data_Bioactives_missing[Data_Bioactives_missing[\"_merge\"] == 'left_only'].dropna(axis='columns')"
   ]
  },
  {
   "cell_type": "code",
   "execution_count": 8,
   "id": "97e29216",
   "metadata": {},
   "outputs": [],
   "source": [
    "### \n",
    "filename_missing = save_path + str(date.today()) + \"_FMP_HepG2_raw_missing_wells.csv\"\n",
    "Data_Bioactives_missing.to_csv(filename_missing, index = False)"
   ]
  },
  {
   "cell_type": "code",
   "execution_count": 9,
   "id": "29fef1d0",
   "metadata": {},
   "outputs": [
    {
     "name": "stdout",
     "output_type": "stream",
     "text": [
      "There are 55 missing wells.\n"
     ]
    }
   ],
   "source": [
    "print(\"There are\",len(Data_Bioactives_missing), \"missing wells.\")"
   ]
  },
  {
   "cell_type": "code",
   "execution_count": 10,
   "id": "572b2e83",
   "metadata": {},
   "outputs": [
    {
     "name": "stdout",
     "output_type": "stream",
     "text": [
      "There are 5 compounds missing all 4 replicates.\n"
     ]
    }
   ],
   "source": [
    "Data_Bioactives_missing_counts = Data_Bioactives_missing['Metadata_EOS'].value_counts()\n",
    "print(\"There are\",len(Data_Bioactives_missing_counts[Data_Bioactives_missing_counts.iloc[:] == 4]), \"compounds missing all 4 replicates.\")"
   ]
  }
 ],
 "metadata": {
  "kernelspec": {
   "display_name": "Python 3",
   "language": "python",
   "name": "python3"
  },
  "language_info": {
   "codemirror_mode": {
    "name": "ipython",
    "version": 3
   },
   "file_extension": ".py",
   "mimetype": "text/x-python",
   "name": "python",
   "nbconvert_exporter": "python",
   "pygments_lexer": "ipython3",
   "version": "3.9.16"
  }
 },
 "nbformat": 4,
 "nbformat_minor": 5
}
