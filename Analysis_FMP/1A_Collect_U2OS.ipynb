{
 "cells": [
  {
   "cell_type": "code",
   "execution_count": 1,
   "id": "a5a22344",
   "metadata": {},
   "outputs": [],
   "source": [
    "from datetime import date\n",
    "import pandas as pd\n",
    "import os\n",
    "import glob"
   ]
  },
  {
   "cell_type": "markdown",
   "id": "b67cf474",
   "metadata": {},
   "source": [
    "# Load data FMP U2OS dataset\n",
    "\n",
    "This notebook loads the aggregated data for the U2OS data from the FMP"
   ]
  },
  {
   "cell_type": "code",
   "execution_count": 2,
   "id": "35a64157",
   "metadata": {},
   "outputs": [],
   "source": [
    "parent_directory = \"/home/schmiedc/FMP_Docs/Projects/Bioactives_data/\"\n",
    "\n",
    "# Path \n",
    "data_path =  parent_directory  + \"aggregated_data/FMP_U2OS/\"\n",
    "save_path = parent_directory  + \"results/\"\n",
    "annot_path = parent_directory  + \"annotations/\""
   ]
  },
  {
   "cell_type": "code",
   "execution_count": 3,
   "id": "c06cbd6b",
   "metadata": {},
   "outputs": [
    {
     "name": "stdout",
     "output_type": "stream",
     "text": [
      "R1 B1001 has shape (376, 2981)\n",
      "R1 B1002 has shape (374, 2981)\n",
      "R1 B1003 has shape (379, 2981)\n",
      "R1 B1004 has shape (380, 2981)\n",
      "R1 B1005 has shape (380, 2981)\n",
      "R1 B1006 has shape (381, 2981)\n",
      "R1 B1007 has shape (383, 2981)\n",
      "R2 B1001 has shape (377, 2981)\n",
      "R2 B1002 has shape (377, 2981)\n",
      "R2 B1003 has shape (380, 2981)\n",
      "R2 B1004 has shape (380, 2981)\n",
      "R2 B1005 has shape (379, 2981)\n",
      "R2 B1006 has shape (381, 2981)\n",
      "R2 B1007 has shape (382, 2981)\n",
      "R3 B1001 has shape (376, 2981)\n",
      "R3 B1002 has shape (378, 2981)\n",
      "R3 B1003 has shape (381, 2981)\n",
      "R3 B1004 has shape (380, 2981)\n",
      "R3 B1005 has shape (383, 2981)\n",
      "R3 B1006 has shape (379, 2981)\n",
      "R3 B1007 has shape (381, 2981)\n",
      "R4 B1001 has shape (377, 2981)\n",
      "R4 B1002 has shape (379, 2981)\n",
      "R4 B1003 has shape (381, 2981)\n",
      "R4 B1004 has shape (382, 2981)\n",
      "R4 B1005 has shape (381, 2981)\n",
      "R4 B1006 has shape (380, 2981)\n",
      "R4 B1007 has shape (382, 2981)\n",
      "Aggregated Data has shape  (10629, 2981)\n"
     ]
    }
   ],
   "source": [
    "### loading latest data\n",
    "Data = []\n",
    "plates = [\"B1001\",\"B1002\",\"B1003\",\"B1004\",\"B1005\",\"B1006\",\"B1007\"]\n",
    "batches = [\"R1\", \"R2\", \"R3\", \"R4\"]\n",
    "path = data_path\n",
    "\n",
    "for batch in batches:\n",
    "    for plate in plates:\n",
    "    \n",
    "        file_type = '/*[0-9]_U2OS_10uM_*' + plate + \"_\" + batch + \"_CP_Profiles_Aggregated.csv\"\n",
    "        \n",
    "        files_temp = glob.glob(path + file_type)\n",
    "        max_file = max(files_temp, key=os.path.getctime)\n",
    "    \n",
    "        ### load file\n",
    "        Data_Temp = pd.read_csv(max_file)\n",
    "        print(batch, plate, \"has shape\", Data_Temp.shape)  \n",
    "        ### put to list\n",
    "        Data.append(Data_Temp)\n",
    "\n",
    "### concat all batches together\n",
    "Data_aggregated = pd.concat(Data)\n",
    "Data_aggregated = Data_aggregated.reset_index(drop = True)\n",
    "\n",
    "print(\"Aggregated Data has shape \", Data_aggregated.shape)"
   ]
  },
  {
   "cell_type": "markdown",
   "id": "5cb97a6f",
   "metadata": {},
   "source": [
    "## Process input data"
   ]
  },
  {
   "cell_type": "code",
   "execution_count": 4,
   "id": "065dec98",
   "metadata": {},
   "outputs": [],
   "source": [
    "# create correct metadata columns\n",
    "metadataCol = Data_aggregated['Metadata_Plate'].str.split(\"_\", n=1, expand=True)\n",
    "metadataCol[1] = metadataCol[1].astype(str)\n",
    "metadataCol = metadataCol.rename(columns={0: \"Metadata_Plate\", 1: \"Metadata_Batch\"})"
   ]
  },
  {
   "cell_type": "code",
   "execution_count": 5,
   "id": "28b26c6f",
   "metadata": {},
   "outputs": [],
   "source": [
    "# drop faulty metadata columns\n",
    "Data_aggregated_dropped = Data_aggregated.drop(['Metadata_Batch', 'Metadata_Plate'], axis=1)"
   ]
  },
  {
   "cell_type": "code",
   "execution_count": 6,
   "id": "172e17e3",
   "metadata": {},
   "outputs": [
    {
     "name": "stdout",
     "output_type": "stream",
     "text": [
      "Aggregated Data has shape  (10629, 2981)\n"
     ]
    }
   ],
   "source": [
    "Data_aggregated = pd.concat([metadataCol, Data_aggregated_dropped], axis=1)\n",
    "print(\"Aggregated Data has shape \", Data_aggregated.shape)"
   ]
  },
  {
   "cell_type": "markdown",
   "id": "b58a5c01",
   "metadata": {},
   "source": [
    "# Load plate annotations\n",
    "\n",
    "This adds the matching annotations to associate the well with the EOS number"
   ]
  },
  {
   "cell_type": "code",
   "execution_count": 7,
   "id": "ad480884",
   "metadata": {},
   "outputs": [
    {
     "data": {
      "text/plain": [
       "(10752, 6)"
      ]
     },
     "execution_count": 7,
     "metadata": {},
     "output_type": "execute_result"
    }
   ],
   "source": [
    "file_type = '/*[0-9]_' + 'Annotation_Bioactives_U2OS_Corrected.csv'\n",
    "files = glob.glob(annot_path + file_type)\n",
    "\n",
    "### gets latest file\n",
    "max_file = max(files, key=os.path.getctime)\n",
    "\n",
    "### load file\n",
    "Annotation_Bioactives = pd.read_csv(max_file)\n",
    "Annotation_Bioactives.shape"
   ]
  },
  {
   "cell_type": "markdown",
   "id": "d343da3f",
   "metadata": {},
   "source": [
    "# Merge in EOS number"
   ]
  },
  {
   "cell_type": "code",
   "execution_count": 8,
   "id": "772bbfb9",
   "metadata": {},
   "outputs": [
    {
     "name": "stdout",
     "output_type": "stream",
     "text": [
      "Aggregated and annotated Data has shape  (10629, 2984)\n"
     ]
    }
   ],
   "source": [
    "Data_Bioactives = pd.merge(\n",
    "    Annotation_Bioactives, \n",
    "    Data_aggregated, \n",
    "    on = [\"Metadata_Batch\", \"Metadata_Plate\", \"Metadata_Well\"], \n",
    "    how = \"inner\")\n",
    "        \n",
    "print(\"Aggregated and annotated Data has shape \", Data_Bioactives.shape)"
   ]
  },
  {
   "cell_type": "markdown",
   "id": "d1cd08c5",
   "metadata": {},
   "source": [
    "# Save raw data"
   ]
  },
  {
   "cell_type": "code",
   "execution_count": 9,
   "id": "9aa8119a",
   "metadata": {},
   "outputs": [],
   "source": [
    "filename = save_path + str(date.today()) + \"_FMP_U2OS_raw.csv\"\n",
    "Data_Bioactives.to_csv(filename, index = False)"
   ]
  },
  {
   "cell_type": "markdown",
   "id": "4c63e787",
   "metadata": {},
   "source": [
    "## Save missing data\n",
    "\n",
    "Missing data here means that there is no segmentation available. That means either the images were missing (unlikely) or there was not segmentation possible or failed. If the segmentation failed the wells could be empty from the beginning or that the cells are all dead from the application of the compound. \n",
    "\n",
    "Here we use it as an indication of toxicity. Although with missing wells these other explanation (no images, no cells applied) cannot be totally excluded."
   ]
  },
  {
   "cell_type": "code",
   "execution_count": 10,
   "id": "9663199d",
   "metadata": {},
   "outputs": [],
   "source": [
    "Data_Bioactives_missing = pd.merge(\n",
    "    Annotation_Bioactives, \n",
    "    Data_aggregated, \n",
    "    on = [\"Metadata_Batch\", \"Metadata_Plate\", \"Metadata_Well\"], \n",
    "    how = \"left\",\n",
    "    indicator = True)\n",
    "        \n",
    "Data_Bioactives_missing = Data_Bioactives_missing[Data_Bioactives_missing[\"_merge\"] == 'left_only'].dropna(axis='columns')"
   ]
  },
  {
   "cell_type": "code",
   "execution_count": 11,
   "id": "47dcf70a",
   "metadata": {},
   "outputs": [],
   "source": [
    "filename = save_path + str(date.today()) + \"_FMP_U2OS_raw_missing_wells.csv\"\n",
    "Data_Bioactives_missing.to_csv(filename, index = False)"
   ]
  },
  {
   "cell_type": "code",
   "execution_count": 12,
   "id": "55ea753c",
   "metadata": {},
   "outputs": [
    {
     "name": "stdout",
     "output_type": "stream",
     "text": [
      "There are 123 missing wells.\n"
     ]
    }
   ],
   "source": [
    "print(\"There are\",len(Data_Bioactives_missing), \"missing wells.\")"
   ]
  },
  {
   "cell_type": "code",
   "execution_count": 13,
   "id": "d20e9ab5",
   "metadata": {
    "scrolled": true
   },
   "outputs": [
    {
     "name": "stdout",
     "output_type": "stream",
     "text": [
      "There are 18 compounds missing all 4 replicates.\n"
     ]
    }
   ],
   "source": [
    "Data_Bioactives_missing_counts = Data_Bioactives_missing['Metadata_EOS'].value_counts()\n",
    "print(\"There are\",len(Data_Bioactives_missing_counts[Data_Bioactives_missing_counts.iloc[:] == 4]), \"compounds missing all 4 replicates.\")"
   ]
  }
 ],
 "metadata": {
  "kernelspec": {
   "display_name": "Python 3",
   "language": "python",
   "name": "python3"
  },
  "language_info": {
   "codemirror_mode": {
    "name": "ipython",
    "version": 3
   },
   "file_extension": ".py",
   "mimetype": "text/x-python",
   "name": "python",
   "nbconvert_exporter": "python",
   "pygments_lexer": "ipython3",
   "version": "3.9.16"
  }
 },
 "nbformat": 4,
 "nbformat_minor": 5
}
