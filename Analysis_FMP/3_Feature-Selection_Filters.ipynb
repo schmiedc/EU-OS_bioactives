{
 "cells": [
  {
   "cell_type": "code",
   "execution_count": 1,
   "id": "f9d091a9",
   "metadata": {},
   "outputs": [],
   "source": [
    "from datetime import date\n",
    "import pandas as pd\n",
    "import os\n",
    "import glob\n",
    "import pycytominer\n",
    "import matplotlib.pyplot as plt\n",
    "import seaborn as sns\n",
    "from matplotlib_venn import venn2 "
   ]
  },
  {
   "cell_type": "code",
   "execution_count": 2,
   "id": "a94d8765",
   "metadata": {},
   "outputs": [],
   "source": [
    "# load custom collection of functions\n",
    "import sys\n",
    "sys.path.append('/home/schmiedc/FMP_Docs/Projects/Bioactives_data/notebooks/')\n",
    "import utility_functions as UTIL"
   ]
  },
  {
   "cell_type": "code",
   "execution_count": 3,
   "id": "731cc714",
   "metadata": {},
   "outputs": [],
   "source": [
    "parent_directory = \"/home/schmiedc/FMP_Docs/Projects/Bioactives_data/\"\n",
    "\n",
    "input_path = parent_directory + \"results/\"\n",
    "output_path = input_path\n",
    "\n",
    "figure_path = parent_directory + \"figures/\""
   ]
  },
  {
   "cell_type": "markdown",
   "id": "d2087062",
   "metadata": {},
   "source": [
    "# Load FMP U2OS normalized data"
   ]
  },
  {
   "cell_type": "code",
   "execution_count": 4,
   "id": "5cb3a1d9",
   "metadata": {},
   "outputs": [
    {
     "data": {
      "text/plain": [
       "(10629, 2984)"
      ]
     },
     "execution_count": 4,
     "metadata": {},
     "output_type": "execute_result"
    }
   ],
   "source": [
    "# data_U2OS_Norm = pd.read_csv(input_path + \"2023-04-11_Bioactives_U2OS_norm.csv\")\n",
    "file_U2OS_type = '/*[0-9]_' + 'FMP_U2OS_norm.csv'\n",
    "files_U2OS = glob.glob(input_path + file_U2OS_type)\n",
    "\n",
    "### gets latest file\n",
    "max_file_U2OS = max(files_U2OS, key=os.path.getctime)\n",
    "\n",
    "### load file\n",
    "data_U2OS_Norm = pd.read_csv(max_file_U2OS)\n",
    "data_U2OS_Norm.shape"
   ]
  },
  {
   "cell_type": "markdown",
   "id": "c0dadb59",
   "metadata": {},
   "source": [
    "# Load FMP HepG2 normalized data"
   ]
  },
  {
   "cell_type": "code",
   "execution_count": 5,
   "id": "51f7ff5b",
   "metadata": {},
   "outputs": [
    {
     "data": {
      "text/plain": [
       "(10697, 2984)"
      ]
     },
     "execution_count": 5,
     "metadata": {},
     "output_type": "execute_result"
    }
   ],
   "source": [
    "# data_HepG2_Norm = pd.read_csv(input_path + \"2023-04-11_Bioactives_HepG2_norm.csv\")\n",
    "file_HepG2_type = '/*[0-9]_' + 'FMP_HepG2_norm.csv'\n",
    "files_HepG2 = glob.glob(input_path + file_HepG2_type)\n",
    "\n",
    "### gets latest file\n",
    "max_file_HepG2 = max(files_HepG2, key=os.path.getctime)\n",
    "\n",
    "### load file\n",
    "data_HepG2_Norm = pd.read_csv(max_file_HepG2)\n",
    "data_HepG2_Norm.shape"
   ]
  },
  {
   "cell_type": "markdown",
   "id": "b270d9c8",
   "metadata": {},
   "source": [
    "# Feature Selection\n",
    "\n",
    "Modified from Carsten Beese\n",
    "\n",
    "Variance frequency cut off 0.1\n",
    "\n",
    "Variance unique cut off 0.1\n",
    "\n",
    "Outlier cut off 100\n",
    "\n",
    "\n",
    "Modified:\n",
    "Corr Treshold 0.9"
   ]
  },
  {
   "cell_type": "code",
   "execution_count": 6,
   "id": "4d17a126",
   "metadata": {
    "scrolled": true
   },
   "outputs": [
    {
     "name": "stdout",
     "output_type": "stream",
     "text": [
      "Feature reduction with correlation threshold 0.9 and Outlier threshold 100\n",
      "| Category           |   Original Features |   Variance Threshold |   % Variance |   Outlier Threshold |   % Outlier |   Correlation Threshold |   % Correlation |\n",
      "|:-------------------|--------------------:|---------------------:|-------------:|--------------------:|------------:|------------------------:|----------------:|\n",
      "| Total Features     |                2977 |                 2803 |         94.2 |                2071 |        69.6 |                     738 |            24.8 |\n",
      "| Intensity          |                 180 |                  180 |        100   |                 125 |        69.4 |                      44 |            24.4 |\n",
      "| Correlation        |                 180 |                  122 |         67.8 |                  99 |        55   |                      68 |            37.8 |\n",
      "| AreaShape          |                 162 |                  155 |         95.7 |                 149 |        92   |                     104 |            64.2 |\n",
      "| Granularity        |                 192 |                  178 |         92.7 |                  70 |        36.5 |                      44 |            22.9 |\n",
      "| Neighbors          |                  21 |                   11 |         52.4 |                   5 |        23.8 |                       3 |            14.3 |\n",
      "| RadialDistribution |                 366 |                  284 |         77.6 |                 252 |        68.9 |                     170 |            46.4 |\n",
      "| Texture            |                1872 |                 1872 |        100   |                1371 |        73.2 |                     305 |            16.3 |\n",
      "| MitoSkeleton       |                   4 |                    1 |         25   |                   0 |         0   |                       0 |             0   |\n",
      "\n",
      "| Category       |   Original Features |   Variance Threshold |   % Variance |   Outlier Threshold |   % Outlier |   Correlation Threshold |   % Correlation |\n",
      "|:---------------|--------------------:|---------------------:|-------------:|--------------------:|------------:|------------------------:|----------------:|\n",
      "| Total Features |                2977 |                 2803 |         94.2 |                2071 |        69.6 |                     738 |            24.8 |\n",
      "| Nucleus        |                 921 |                  877 |         95.2 |                 682 |        74   |                     248 |            26.9 |\n",
      "| Cell           |                1035 |                 1004 |         97   |                 747 |        72.2 |                     239 |            23.1 |\n",
      "| Cytoplasm      |                1021 |                  922 |         90.3 |                 642 |        62.9 |                     251 |            24.6 |\n"
     ]
    }
   ],
   "source": [
    "# U2OS feature reduction\n",
    "print(\"Feature reduction with correlation threshold 0.9 and Outlier threshold 100\")\n",
    "U2OS_Reduced_Carsten_100_Mod = UTIL.feature_reduction(data_U2OS_Norm, \n",
    "                                         variance_freq_cut=0.1, \n",
    "                                         variance_unique_cut=0.1, \n",
    "                                         outlier_cutoff=100, \n",
    "                                         corr_threshold = 0.9, \n",
    "                                         print_stats = True)"
   ]
  },
  {
   "cell_type": "code",
   "execution_count": 7,
   "id": "27501a95",
   "metadata": {},
   "outputs": [
    {
     "name": "stdout",
     "output_type": "stream",
     "text": [
      "Feature reduction with correlation threshold 0.9 and Outlier threshold 100\n",
      "| Category           |   Original Features |   Variance Threshold |   % Variance |   Outlier Threshold |   % Outlier |   Correlation Threshold |   % Correlation |\n",
      "|:-------------------|--------------------:|---------------------:|-------------:|--------------------:|------------:|------------------------:|----------------:|\n",
      "| Total Features     |                2977 |                 2811 |         94.4 |                2177 |        73.1 |                     654 |            22   |\n",
      "| Intensity          |                 180 |                  180 |        100   |                 149 |        82.8 |                      44 |            24.4 |\n",
      "| Correlation        |                 180 |                  120 |         66.7 |                  99 |        55   |                      65 |            36.1 |\n",
      "| AreaShape          |                 162 |                  154 |         95.1 |                 139 |        85.8 |                      97 |            59.9 |\n",
      "| Granularity        |                 192 |                  192 |        100   |                 122 |        63.5 |                      49 |            25.5 |\n",
      "| Neighbors          |                  21 |                   13 |         61.9 |                   7 |        33.3 |                       5 |            23.8 |\n",
      "| RadialDistribution |                 366 |                  279 |         76.2 |                 161 |        44   |                     103 |            28.1 |\n",
      "| Texture            |                1872 |                 1872 |        100   |                1500 |        80.1 |                     291 |            15.5 |\n",
      "| MitoSkeleton       |                   4 |                    1 |         25   |                   0 |         0   |                       0 |             0   |\n",
      "\n",
      "| Category       |   Original Features |   Variance Threshold |   % Variance |   Outlier Threshold |   % Outlier |   Correlation Threshold |   % Correlation |\n",
      "|:---------------|--------------------:|---------------------:|-------------:|--------------------:|------------:|------------------------:|----------------:|\n",
      "| Total Features |                2977 |                 2811 |         94.4 |                2177 |        73.1 |                     654 |            22   |\n",
      "| Nucleus        |                 921 |                  889 |         96.5 |                 660 |        71.7 |                     197 |            21.4 |\n",
      "| Cell           |                1035 |                 1000 |         96.6 |                 763 |        73.7 |                     205 |            19.8 |\n",
      "| Cytoplasm      |                1021 |                  922 |         90.3 |                 754 |        73.8 |                     252 |            24.7 |\n"
     ]
    }
   ],
   "source": [
    "# HepG2 feature reduction\n",
    "print(\"Feature reduction with correlation threshold 0.9 and Outlier threshold 100\")\n",
    "HepG2_Reduced_Carsten_100_Mod = UTIL.feature_reduction(data_HepG2_Norm, \n",
    "                                         variance_freq_cut=0.1, \n",
    "                                         variance_unique_cut=0.1, \n",
    "                                         outlier_cutoff=100, \n",
    "                                         corr_threshold = 0.9, \n",
    "                                         print_stats = True)"
   ]
  },
  {
   "cell_type": "code",
   "execution_count": 8,
   "id": "cfa709a3",
   "metadata": {},
   "outputs": [],
   "source": [
    "df_HepG2_headers = pd.DataFrame(list(HepG2_Reduced_Carsten_100_Mod.columns.values))\n",
    "\n",
    "filename_df_HepG2_headers = output_path + str(date.today()) + \"_FMP_HepG2_Features.csv\"\n",
    "df_HepG2_headers.to_csv(filename_df_HepG2_headers, index = False)"
   ]
  },
  {
   "cell_type": "code",
   "execution_count": 9,
   "id": "0ce2b1f8",
   "metadata": {},
   "outputs": [],
   "source": [
    "df_U2OS_headers = pd.DataFrame(list(U2OS_Reduced_Carsten_100_Mod.columns.values))\n",
    "\n",
    "filename_df_U2OS_headers = output_path + str(date.today()) + \"_FMP_U2OS_Features.csv\"\n",
    "df_U2OS_headers.to_csv(filename_df_U2OS_headers, index = False)"
   ]
  },
  {
   "cell_type": "markdown",
   "id": "b139953e",
   "metadata": {},
   "source": [
    "# Consensus Feature reduction"
   ]
  },
  {
   "cell_type": "code",
   "execution_count": 10,
   "id": "1b5231df",
   "metadata": {},
   "outputs": [],
   "source": [
    "## gets feature vector\n",
    "Features_U2OS_Reduced_Carsten_100_Mod = UTIL.get_feature_vector(U2OS_Reduced_Carsten_100_Mod)\n",
    "Features_U2OS_Reduced_Carsten_100_Mod.append(\"Metadata_Object_Count\") \n",
    "\n",
    "\n",
    "U2OS_Norm_Reduced_Median = pycytominer.consensus(\n",
    "        profiles = U2OS_Reduced_Carsten_100_Mod, # A file or pandas DataFrame of profile data\n",
    "        replicate_columns = [\"Metadata_EOS\", \"Metadata_Plate\", \"Metadata_Concentration\", \"Metadata_Partner\"], # Metadata columns indicating which replicates to collapse, defaults to [“Metadata_Plate”, “Metadata_Well”]\n",
    "        operation = \"median\", # (str) – The method used to form consensus profiles, defaults to “median”\n",
    "        features = Features_U2OS_Reduced_Carsten_100_Mod, # (str, list) – The features to collapse, defaults to “infer”\n",
    ")"
   ]
  },
  {
   "cell_type": "code",
   "execution_count": 11,
   "id": "44e158cd",
   "metadata": {},
   "outputs": [],
   "source": [
    "# Moves position of Metadata_Object_Count column\n",
    "U2OS_column_to_move = U2OS_Norm_Reduced_Median.pop(\"Metadata_Object_Count\")\n",
    "U2OS_Norm_Reduced_Median.insert(4, \"Metadata_Object_Count\", U2OS_column_to_move)"
   ]
  },
  {
   "cell_type": "code",
   "execution_count": 12,
   "id": "997633be",
   "metadata": {},
   "outputs": [],
   "source": [
    "filename_U2OS_Norm_Reduced_Median = output_path + str(date.today()) + \"_FMP_U2OS_norm_reduced_Median_Cell-Number.csv\"\n",
    "U2OS_Norm_Reduced_Median.to_csv(filename_U2OS_Norm_Reduced_Median, index = False)"
   ]
  },
  {
   "cell_type": "code",
   "execution_count": 13,
   "id": "edcfa263",
   "metadata": {},
   "outputs": [],
   "source": [
    "## gets feature vector\n",
    "Features_HepG2_Reduced_Carsten_100_Mod = UTIL.get_feature_vector(HepG2_Reduced_Carsten_100_Mod)\n",
    "Features_HepG2_Reduced_Carsten_100_Mod.append(\"Metadata_Object_Count\") \n",
    "\n",
    "\n",
    "HepG2_Norm_Reduced_Median = pycytominer.consensus(\n",
    "        profiles = HepG2_Reduced_Carsten_100_Mod, # A file or pandas DataFrame of profile data\n",
    "        replicate_columns = [\"Metadata_EOS\", \"Metadata_Plate\", \"Metadata_Concentration\", \"Metadata_Partner\"], # Metadata columns indicating which replicates to collapse, defaults to [“Metadata_Plate”, “Metadata_Well”]\n",
    "        operation = \"median\", # (str) – The method used to form consensus profiles, defaults to “median”\n",
    "        features = Features_HepG2_Reduced_Carsten_100_Mod, # (str, list) – The features to collapse, defaults to “infer”\n",
    ")"
   ]
  },
  {
   "cell_type": "code",
   "execution_count": 14,
   "id": "d03da0c9",
   "metadata": {},
   "outputs": [],
   "source": [
    "# Moves position of Metadata_Object_Count column\n",
    "HepG2_column_to_move = HepG2_Norm_Reduced_Median.pop(\"Metadata_Object_Count\")\n",
    "HepG2_Norm_Reduced_Median.insert(4, \"Metadata_Object_Count\", HepG2_column_to_move)"
   ]
  },
  {
   "cell_type": "code",
   "execution_count": 15,
   "id": "82884959",
   "metadata": {},
   "outputs": [],
   "source": [
    "filename_HepG2_Norm_Reduced_Median = output_path + str(date.today()) + \"_FMP_HepG2_norm_reduced_Median_Cell-Number.csv\"\n",
    "HepG2_Norm_Reduced_Median.to_csv(filename_HepG2_Norm_Reduced_Median, index = False)"
   ]
  },
  {
   "cell_type": "markdown",
   "id": "f6d332b1",
   "metadata": {},
   "source": [
    "# Create Feature annotation for Profile Viz"
   ]
  },
  {
   "cell_type": "code",
   "execution_count": 16,
   "id": "3964ad48",
   "metadata": {},
   "outputs": [],
   "source": [
    "U2OS_Norm_Reduced_Median_copy = U2OS_Norm_Reduced_Median.copy()\n",
    "U2OS_Norm_Reduced_Median_copy.columns = U2OS_Norm_Reduced_Median_copy.columns.str.split('_', expand=True, n=2)"
   ]
  },
  {
   "cell_type": "code",
   "execution_count": 17,
   "id": "bf36728b",
   "metadata": {},
   "outputs": [],
   "source": [
    "filename_U2OS_Norm_Reduced_Median_ProfileViz = output_path + \"ProfileViz/\" +  str(date.today()) + \"_FMP_U2OS_norm_reduced_Median_ProfileViz.csv\"\n",
    "U2OS_Norm_Reduced_Median_copy.to_csv(filename_U2OS_Norm_Reduced_Median_ProfileViz, index = False)"
   ]
  },
  {
   "cell_type": "code",
   "execution_count": 18,
   "id": "6702958c",
   "metadata": {},
   "outputs": [
    {
     "data": {
      "text/html": [
       "<div>\n",
       "<style scoped>\n",
       "    .dataframe tbody tr th:only-of-type {\n",
       "        vertical-align: middle;\n",
       "    }\n",
       "\n",
       "    .dataframe tbody tr th {\n",
       "        vertical-align: top;\n",
       "    }\n",
       "\n",
       "    .dataframe thead tr th {\n",
       "        text-align: left;\n",
       "    }\n",
       "</style>\n",
       "<table border=\"1\" class=\"dataframe\">\n",
       "  <thead>\n",
       "    <tr>\n",
       "      <th></th>\n",
       "      <th colspan=\"5\" halign=\"left\">Metadata</th>\n",
       "      <th colspan=\"5\" halign=\"left\">Nuc</th>\n",
       "      <th>...</th>\n",
       "      <th colspan=\"10\" halign=\"left\">Cyto</th>\n",
       "    </tr>\n",
       "    <tr>\n",
       "      <th></th>\n",
       "      <th>EOS</th>\n",
       "      <th>Plate</th>\n",
       "      <th>Concentration</th>\n",
       "      <th>Partner</th>\n",
       "      <th>Object</th>\n",
       "      <th colspan=\"5\" halign=\"left\">AreaShape</th>\n",
       "      <th>...</th>\n",
       "      <th colspan=\"10\" halign=\"left\">Texture</th>\n",
       "    </tr>\n",
       "    <tr>\n",
       "      <th></th>\n",
       "      <th>NaN</th>\n",
       "      <th>NaN</th>\n",
       "      <th>NaN</th>\n",
       "      <th>NaN</th>\n",
       "      <th>Count</th>\n",
       "      <th>BoundingBoxMaximum_Y</th>\n",
       "      <th>Compactness</th>\n",
       "      <th>Eccentricity</th>\n",
       "      <th>Extent</th>\n",
       "      <th>MaxFeretDiameter</th>\n",
       "      <th>...</th>\n",
       "      <th>InverseDifferenceMoment_ER_5_03_256</th>\n",
       "      <th>SumAverage_AGP_10_02_256</th>\n",
       "      <th>SumAverage_DNA_10_01_256</th>\n",
       "      <th>SumAverage_DNA_10_02_256</th>\n",
       "      <th>SumAverage_DNA_3_01_256</th>\n",
       "      <th>SumEntropy_DNA_10_03_256</th>\n",
       "      <th>SumEntropy_ER_3_00_256</th>\n",
       "      <th>SumVariance_DNA_10_00_256</th>\n",
       "      <th>SumVariance_DNA_3_03_256</th>\n",
       "      <th>SumVariance_DNA_5_01_256</th>\n",
       "    </tr>\n",
       "  </thead>\n",
       "  <tbody>\n",
       "    <tr>\n",
       "      <th>0</th>\n",
       "      <td>DMSO</td>\n",
       "      <td>B1001</td>\n",
       "      <td>0</td>\n",
       "      <td>Bioactives</td>\n",
       "      <td>925.5</td>\n",
       "      <td>0.0</td>\n",
       "      <td>0.0</td>\n",
       "      <td>0.0</td>\n",
       "      <td>0.0</td>\n",
       "      <td>0.0</td>\n",
       "      <td>...</td>\n",
       "      <td>0.000000e+00</td>\n",
       "      <td>-2.796374e-15</td>\n",
       "      <td>0.0</td>\n",
       "      <td>0.000000e+00</td>\n",
       "      <td>0.000000e+00</td>\n",
       "      <td>0.000000e+00</td>\n",
       "      <td>0.000000e+00</td>\n",
       "      <td>0.000000e+00</td>\n",
       "      <td>0.000000e+00</td>\n",
       "      <td>-1.449795e-15</td>\n",
       "    </tr>\n",
       "    <tr>\n",
       "      <th>1</th>\n",
       "      <td>DMSO</td>\n",
       "      <td>B1002</td>\n",
       "      <td>0</td>\n",
       "      <td>Bioactives</td>\n",
       "      <td>929.0</td>\n",
       "      <td>0.0</td>\n",
       "      <td>0.0</td>\n",
       "      <td>0.0</td>\n",
       "      <td>0.0</td>\n",
       "      <td>0.0</td>\n",
       "      <td>...</td>\n",
       "      <td>-2.399990e-15</td>\n",
       "      <td>0.000000e+00</td>\n",
       "      <td>0.0</td>\n",
       "      <td>0.000000e+00</td>\n",
       "      <td>0.000000e+00</td>\n",
       "      <td>-1.524999e-14</td>\n",
       "      <td>0.000000e+00</td>\n",
       "      <td>0.000000e+00</td>\n",
       "      <td>0.000000e+00</td>\n",
       "      <td>0.000000e+00</td>\n",
       "    </tr>\n",
       "    <tr>\n",
       "      <th>2</th>\n",
       "      <td>DMSO</td>\n",
       "      <td>B1003</td>\n",
       "      <td>0</td>\n",
       "      <td>Bioactives</td>\n",
       "      <td>895.5</td>\n",
       "      <td>0.0</td>\n",
       "      <td>0.0</td>\n",
       "      <td>0.0</td>\n",
       "      <td>0.0</td>\n",
       "      <td>0.0</td>\n",
       "      <td>...</td>\n",
       "      <td>0.000000e+00</td>\n",
       "      <td>0.000000e+00</td>\n",
       "      <td>0.0</td>\n",
       "      <td>2.199629e-15</td>\n",
       "      <td>0.000000e+00</td>\n",
       "      <td>0.000000e+00</td>\n",
       "      <td>0.000000e+00</td>\n",
       "      <td>0.000000e+00</td>\n",
       "      <td>-3.949965e-15</td>\n",
       "      <td>0.000000e+00</td>\n",
       "    </tr>\n",
       "    <tr>\n",
       "      <th>3</th>\n",
       "      <td>DMSO</td>\n",
       "      <td>B1004</td>\n",
       "      <td>0</td>\n",
       "      <td>Bioactives</td>\n",
       "      <td>914.5</td>\n",
       "      <td>0.0</td>\n",
       "      <td>0.0</td>\n",
       "      <td>0.0</td>\n",
       "      <td>0.0</td>\n",
       "      <td>0.0</td>\n",
       "      <td>...</td>\n",
       "      <td>0.000000e+00</td>\n",
       "      <td>0.000000e+00</td>\n",
       "      <td>0.0</td>\n",
       "      <td>0.000000e+00</td>\n",
       "      <td>0.000000e+00</td>\n",
       "      <td>0.000000e+00</td>\n",
       "      <td>0.000000e+00</td>\n",
       "      <td>0.000000e+00</td>\n",
       "      <td>0.000000e+00</td>\n",
       "      <td>0.000000e+00</td>\n",
       "    </tr>\n",
       "    <tr>\n",
       "      <th>4</th>\n",
       "      <td>DMSO</td>\n",
       "      <td>B1005</td>\n",
       "      <td>0</td>\n",
       "      <td>Bioactives</td>\n",
       "      <td>937.0</td>\n",
       "      <td>0.0</td>\n",
       "      <td>0.0</td>\n",
       "      <td>0.0</td>\n",
       "      <td>0.0</td>\n",
       "      <td>0.0</td>\n",
       "      <td>...</td>\n",
       "      <td>-2.399990e-15</td>\n",
       "      <td>0.000000e+00</td>\n",
       "      <td>0.0</td>\n",
       "      <td>0.000000e+00</td>\n",
       "      <td>6.300516e-15</td>\n",
       "      <td>3.700165e-15</td>\n",
       "      <td>5.999975e-15</td>\n",
       "      <td>-1.250085e-15</td>\n",
       "      <td>0.000000e+00</td>\n",
       "      <td>-1.196959e-15</td>\n",
       "    </tr>\n",
       "  </tbody>\n",
       "</table>\n",
       "<p>5 rows × 659 columns</p>\n",
       "</div>"
      ],
      "text/plain": [
       "  Metadata                                                          Nuc  \\\n",
       "       EOS  Plate Concentration     Partner Object            AreaShape   \n",
       "       NaN    NaN           NaN         NaN  Count BoundingBoxMaximum_Y   \n",
       "0     DMSO  B1001             0  Bioactives  925.5                  0.0   \n",
       "1     DMSO  B1002             0  Bioactives  929.0                  0.0   \n",
       "2     DMSO  B1003             0  Bioactives  895.5                  0.0   \n",
       "3     DMSO  B1004             0  Bioactives  914.5                  0.0   \n",
       "4     DMSO  B1005             0  Bioactives  937.0                  0.0   \n",
       "\n",
       "                                                    ...  \\\n",
       "                                                    ...   \n",
       "  Compactness Eccentricity Extent MaxFeretDiameter  ...   \n",
       "0         0.0          0.0    0.0              0.0  ...   \n",
       "1         0.0          0.0    0.0              0.0  ...   \n",
       "2         0.0          0.0    0.0              0.0  ...   \n",
       "3         0.0          0.0    0.0              0.0  ...   \n",
       "4         0.0          0.0    0.0              0.0  ...   \n",
       "\n",
       "                                 Cyto                           \\\n",
       "                              Texture                            \n",
       "  InverseDifferenceMoment_ER_5_03_256 SumAverage_AGP_10_02_256   \n",
       "0                        0.000000e+00            -2.796374e-15   \n",
       "1                       -2.399990e-15             0.000000e+00   \n",
       "2                        0.000000e+00             0.000000e+00   \n",
       "3                        0.000000e+00             0.000000e+00   \n",
       "4                       -2.399990e-15             0.000000e+00   \n",
       "\n",
       "                                                                             \\\n",
       "                                                                              \n",
       "  SumAverage_DNA_10_01_256 SumAverage_DNA_10_02_256 SumAverage_DNA_3_01_256   \n",
       "0                      0.0             0.000000e+00            0.000000e+00   \n",
       "1                      0.0             0.000000e+00            0.000000e+00   \n",
       "2                      0.0             2.199629e-15            0.000000e+00   \n",
       "3                      0.0             0.000000e+00            0.000000e+00   \n",
       "4                      0.0             0.000000e+00            6.300516e-15   \n",
       "\n",
       "                                                                             \\\n",
       "                                                                              \n",
       "  SumEntropy_DNA_10_03_256 SumEntropy_ER_3_00_256 SumVariance_DNA_10_00_256   \n",
       "0             0.000000e+00           0.000000e+00              0.000000e+00   \n",
       "1            -1.524999e-14           0.000000e+00              0.000000e+00   \n",
       "2             0.000000e+00           0.000000e+00              0.000000e+00   \n",
       "3             0.000000e+00           0.000000e+00              0.000000e+00   \n",
       "4             3.700165e-15           5.999975e-15             -1.250085e-15   \n",
       "\n",
       "                                                     \n",
       "                                                     \n",
       "  SumVariance_DNA_3_03_256 SumVariance_DNA_5_01_256  \n",
       "0             0.000000e+00            -1.449795e-15  \n",
       "1             0.000000e+00             0.000000e+00  \n",
       "2            -3.949965e-15             0.000000e+00  \n",
       "3             0.000000e+00             0.000000e+00  \n",
       "4             0.000000e+00            -1.196959e-15  \n",
       "\n",
       "[5 rows x 659 columns]"
      ]
     },
     "execution_count": 18,
     "metadata": {},
     "output_type": "execute_result"
    }
   ],
   "source": [
    "HepG2_Norm_Reduced_Median_copy = HepG2_Norm_Reduced_Median.copy()\n",
    "HepG2_Norm_Reduced_Median_copy.columns = HepG2_Norm_Reduced_Median_copy.columns.str.split('_', expand=True, n=2)\n",
    "HepG2_Norm_Reduced_Median_copy.head()"
   ]
  },
  {
   "cell_type": "code",
   "execution_count": 19,
   "id": "3620da70",
   "metadata": {},
   "outputs": [],
   "source": [
    "filename_HepG2_Norm_Reduced_Median_ProfileViz = output_path + \"ProfileViz/\" +  str(date.today()) + \"_FMP_HepG2_norm_reduced_Median_ProfileViz.csv\"\n",
    "HepG2_Norm_Reduced_Median_copy.to_csv(filename_HepG2_Norm_Reduced_Median_ProfileViz, index = False)"
   ]
  },
  {
   "cell_type": "markdown",
   "id": "85db60ec",
   "metadata": {},
   "source": [
    "## Create Overlapping features for Profile Viz"
   ]
  },
  {
   "cell_type": "code",
   "execution_count": 20,
   "id": "ebe4100b",
   "metadata": {},
   "outputs": [],
   "source": [
    "# add a column for cell type\n",
    "U2OS_Norm_Reduced_Median['Metadata_Cell_type'] = 'U2OS'\n",
    "U2OS_column_to_move = U2OS_Norm_Reduced_Median.pop('Metadata_Cell_type')\n",
    "U2OS_Norm_Reduced_Median.insert(5, 'Metadata_Cell_type', U2OS_column_to_move)\n",
    "\n",
    "HepG2_Norm_Reduced_Median['Metadata_Cell_type'] = 'HepG2'\n",
    "HepG2_column_to_move = HepG2_Norm_Reduced_Median.pop('Metadata_Cell_type')\n",
    "HepG2_Norm_Reduced_Median.insert(5, 'Metadata_Cell_type', HepG2_column_to_move)"
   ]
  },
  {
   "cell_type": "code",
   "execution_count": 21,
   "id": "6e3f3fc6",
   "metadata": {},
   "outputs": [],
   "source": [
    "# Get overlapping features\n",
    "Features_U2OS_Norm_Reduced_Median = UTIL.get_feature_vector(U2OS_Norm_Reduced_Median)\n",
    "Features_HepG2_Norm_Reduced_Median = UTIL.get_feature_vector(HepG2_Norm_Reduced_Median)"
   ]
  },
  {
   "cell_type": "code",
   "execution_count": 22,
   "id": "b6815bea",
   "metadata": {},
   "outputs": [],
   "source": [
    "Feature_overlap = list(set(Features_U2OS_Norm_Reduced_Median) & set(Features_HepG2_Norm_Reduced_Median))"
   ]
  },
  {
   "cell_type": "code",
   "execution_count": 23,
   "id": "7ce0656e",
   "metadata": {},
   "outputs": [],
   "source": [
    "metadata_all  = UTIL.get_metadata_vector(U2OS_Norm_Reduced_Median)\n",
    "columns_for_filter = metadata_all + Feature_overlap "
   ]
  },
  {
   "cell_type": "code",
   "execution_count": 24,
   "id": "e6124a2e",
   "metadata": {},
   "outputs": [],
   "source": [
    "U2OS_Norm_Reduced_Median_Overlap = U2OS_Norm_Reduced_Median.loc[:, U2OS_Norm_Reduced_Median.columns.isin(columns_for_filter)].copy()\n",
    "HepG2_Norm_Reduced_Median_Overlap = HepG2_Norm_Reduced_Median.loc[:, HepG2_Norm_Reduced_Median.columns.isin(columns_for_filter)].copy()\n",
    "Overlap_Norm_Reduced_Median = pd.concat([U2OS_Norm_Reduced_Median_Overlap, HepG2_Norm_Reduced_Median_Overlap])"
   ]
  },
  {
   "cell_type": "code",
   "execution_count": 25,
   "id": "37e5a882",
   "metadata": {},
   "outputs": [],
   "source": [
    "Overlap_Norm_Reduced_Median.columns = Overlap_Norm_Reduced_Median.columns.str.split('_', expand=True, n=2)"
   ]
  },
  {
   "cell_type": "code",
   "execution_count": 26,
   "id": "80cee470",
   "metadata": {},
   "outputs": [],
   "source": [
    "filename_Overlap_Norm_Reduced_Median_ProfileViz = output_path + \"ProfileViz/\" +  str(date.today()) + \"_FMP_Overlap_Norm_Reduced_Median_ProfileViz.csv\"\n",
    "Overlap_Norm_Reduced_Median.to_csv(filename_Overlap_Norm_Reduced_Median_ProfileViz, index = False)"
   ]
  },
  {
   "cell_type": "markdown",
   "id": "ed9db4f8",
   "metadata": {},
   "source": [
    "# Remove toxic compounds"
   ]
  },
  {
   "cell_type": "code",
   "execution_count": 27,
   "id": "05e2315b",
   "metadata": {},
   "outputs": [
    {
     "name": "stdout",
     "output_type": "stream",
     "text": [
      "Toxic conditions removed with threshold 233.61\n",
      "Old shape (10629, 745)\n",
      "New shape (10002, 745)\n"
     ]
    },
    {
     "data": {
      "image/png": "[encoded data removed]",
      "text/plain": [
       "<Figure size 432x288 with 2 Axes>"
      ]
     },
     "metadata": {
      "needs_background": "light"
     },
     "output_type": "display_data"
    }
   ],
   "source": [
    "U2OS_Reduced_Tox, U2OS_Reduced_Tox_Cond = UTIL.remove_tox(\n",
    "    U2OS_Reduced_Carsten_100_Mod, \n",
    "    key_col = [\"Metadata_EOS\", \"Metadata_Plate\", \"Metadata_Concentration\"], \n",
    "    SD_Threshold = 2.5,  \n",
    "    plot_distribution = True)"
   ]
  },
  {
   "cell_type": "code",
   "execution_count": 28,
   "id": "6a5a5a54",
   "metadata": {},
   "outputs": [
    {
     "data": {
      "text/plain": [
       "2290"
      ]
     },
     "execution_count": 28,
     "metadata": {},
     "output_type": "execute_result"
    }
   ],
   "source": [
    "len(U2OS_Reduced_Tox[\"Metadata_EOS\"].unique())"
   ]
  },
  {
   "cell_type": "code",
   "execution_count": 29,
   "id": "7d9f818a",
   "metadata": {},
   "outputs": [
    {
     "name": "stdout",
     "output_type": "stream",
     "text": [
      "Toxic conditions removed with threshold 328.57\n",
      "Old shape (10697, 661)\n",
      "New shape (10337, 661)\n"
     ]
    },
    {
     "data": {
      "image/png": "[encoded data removed]",
      "text/plain": [
       "<Figure size 432x288 with 2 Axes>"
      ]
     },
     "metadata": {
      "needs_background": "light"
     },
     "output_type": "display_data"
    }
   ],
   "source": [
    "HepG2_Reduced_Tox, HepG2_Reduced_Tox_Cond = UTIL.remove_tox(\n",
    "    HepG2_Reduced_Carsten_100_Mod, \n",
    "    key_col = [\"Metadata_EOS\", \"Metadata_Plate\", \"Metadata_Concentration\"], \n",
    "    SD_Threshold = 2.5,  \n",
    "    plot_distribution = True)"
   ]
  },
  {
   "cell_type": "code",
   "execution_count": 30,
   "id": "47f8a8a7",
   "metadata": {},
   "outputs": [
    {
     "data": {
      "text/plain": [
       "2364"
      ]
     },
     "execution_count": 30,
     "metadata": {},
     "output_type": "execute_result"
    }
   ],
   "source": [
    "len(HepG2_Reduced_Tox[\"Metadata_EOS\"].unique())"
   ]
  },
  {
   "cell_type": "markdown",
   "id": "a45a7569",
   "metadata": {},
   "source": [
    "# Raw % replication"
   ]
  },
  {
   "cell_type": "code",
   "execution_count": 31,
   "id": "e8591be0",
   "metadata": {},
   "outputs": [
    {
     "name": "stdout",
     "output_type": "stream",
     "text": [
      "| Description   |   Percent_Replicating |\n",
      "|:--------------|----------------------:|\n",
      "| Data_50       |                  60.1 |\n",
      "Nonreplicating conditions removed with threshold 0.6\n",
      "Old shape (10002, 745)\n",
      "New shape (6353, 745)\n"
     ]
    },
    {
     "name": "stderr",
     "output_type": "stream",
     "text": [
      "/home/schmiedc/FMP_Docs/Projects/Bioactives_data/notebooks/utility_functions.py:390: FutureWarning: The frame.append method is deprecated and will be removed from pandas in a future version. Use pandas.concat instead.\n",
      "  corr_replicating_df = corr_replicating_df.append({'Description': description,\n"
     ]
    }
   ],
   "source": [
    "U2OS_replicating, U2OS_corr_replicating_df = UTIL.remove_non_reproducible(\n",
    "    U2OS_Reduced_Tox, \n",
    "    n_samples = 10000, \n",
    "    n_replicates = 4, \n",
    "    ID_col = \"Metadata_EOS\", \n",
    "    description = \"Data_50\")"
   ]
  },
  {
   "cell_type": "code",
   "execution_count": 32,
   "id": "052c8de8",
   "metadata": {},
   "outputs": [
    {
     "data": {
      "image/png": "[encoded data removed]",
      "text/plain": [
       "<Figure size 864x432 with 1 Axes>"
      ]
     },
     "metadata": {},
     "output_type": "display_data"
    }
   ],
   "source": [
    "n_experiments = len(U2OS_corr_replicating_df)\n",
    "\n",
    "plt.rcParams['figure.facecolor'] = 'white' # Enabling this makes the figure axes and labels visible in PyCharm Dracula theme\n",
    "plt.figure(figsize=[12, n_experiments*6])\n",
    "\n",
    "for i in range(n_experiments):\n",
    "    plt.subplot(n_experiments, 1, i+1)\n",
    "    plt.hist(U2OS_corr_replicating_df.loc[i,'Null_Replicating'], label='non-replicates', density=True, bins=20, alpha=0.5)\n",
    "    plt.hist(U2OS_corr_replicating_df.loc[i,'Replicating'], label='replicates', density=True, bins=20, alpha=0.5)\n",
    "    plt.axvline(U2OS_corr_replicating_df.loc[i,'Value_95'], label='95% threshold')\n",
    "    plt.legend(fontsize=20)\n",
    "    plt.title(\n",
    "        f\"{U2OS_corr_replicating_df.loc[i,'Description']}\\n\" +\n",
    "        f\"Percent Replicating = {U2OS_corr_replicating_df.loc[i,'Percent_Replicating']}\",\n",
    "        fontsize=25\n",
    "    )\n",
    "    plt.ylabel(\"density\", fontsize=25)\n",
    "    plt.xlabel(\"Batch correlation\", fontsize=25)\n",
    "    plt.xticks(fontsize=20)\n",
    "    plt.yticks(fontsize=20)\n",
    "    sns.despine()\n",
    "plt.tight_layout()\n",
    "plt.savefig(figure_path + str(date.today()) + \"_FMP_U2OS_Percent_Replicating.pdf\", \n",
    "            transparent=False, \n",
    "            bbox_inches='tight', \n",
    "            dpi = 600)"
   ]
  },
  {
   "cell_type": "code",
   "execution_count": 33,
   "id": "6a6ae5f2",
   "metadata": {},
   "outputs": [
    {
     "name": "stdout",
     "output_type": "stream",
     "text": [
      "| Description   |   Percent_Replicating |\n",
      "|:--------------|----------------------:|\n",
      "| Data_50       |                  61.8 |\n",
      "Nonreplicating conditions removed with threshold 0.36\n",
      "Old shape (10337, 661)\n",
      "New shape (6734, 661)\n"
     ]
    },
    {
     "name": "stderr",
     "output_type": "stream",
     "text": [
      "/home/schmiedc/FMP_Docs/Projects/Bioactives_data/notebooks/utility_functions.py:390: FutureWarning: The frame.append method is deprecated and will be removed from pandas in a future version. Use pandas.concat instead.\n",
      "  corr_replicating_df = corr_replicating_df.append({'Description': description,\n"
     ]
    }
   ],
   "source": [
    "HepG2_replicating, HepG2_corr_replicating_df = UTIL.remove_non_reproducible(\n",
    "    HepG2_Reduced_Tox, \n",
    "    n_samples = 10000, \n",
    "    n_replicates = 4, \n",
    "    ID_col = \"Metadata_EOS\", \n",
    "    description = \"Data_50\")"
   ]
  },
  {
   "cell_type": "code",
   "execution_count": 34,
   "id": "68dd3043",
   "metadata": {},
   "outputs": [
    {
     "data": {
      "image/png": "[encoded data removed]",
      "text/plain": [
       "<Figure size 864x432 with 1 Axes>"
      ]
     },
     "metadata": {},
     "output_type": "display_data"
    }
   ],
   "source": [
    "n_experiments = len(HepG2_corr_replicating_df)\n",
    "\n",
    "plt.rcParams['figure.facecolor'] = 'white' # Enabling this makes the figure axes and labels visible in PyCharm Dracula theme\n",
    "plt.figure(figsize=[12, n_experiments*6])\n",
    "\n",
    "for i in range(n_experiments):\n",
    "    plt.subplot(n_experiments, 1, i+1)\n",
    "    plt.hist(HepG2_corr_replicating_df.loc[i,'Null_Replicating'], label='non-replicates', density=True, bins=20, alpha=0.5)\n",
    "    plt.hist(HepG2_corr_replicating_df.loc[i,'Replicating'], label='replicates', density=True, bins=20, alpha=0.5)\n",
    "    plt.axvline(HepG2_corr_replicating_df.loc[i,'Value_95'], label='95% threshold')\n",
    "    plt.legend(fontsize=20)\n",
    "    plt.title(\n",
    "        f\"{HepG2_corr_replicating_df.loc[i,'Description']}\\n\" +\n",
    "        f\"Percent Replicating = {HepG2_corr_replicating_df.loc[i,'Percent_Replicating']}\",\n",
    "        fontsize=25\n",
    "    )\n",
    "    plt.ylabel(\"density\", fontsize=25)\n",
    "    plt.xlabel(\"Batch correlation\", fontsize=25)\n",
    "    plt.xticks(fontsize=20)\n",
    "    plt.yticks(fontsize=20)\n",
    "    sns.despine()\n",
    "plt.tight_layout()\n",
    "\n",
    "plt.savefig(figure_path + str(date.today()) + \"_FMP_HepG2_Percent_Replicating.pdf\", \n",
    "            transparent=False, \n",
    "            bbox_inches='tight', \n",
    "            dpi = 600)"
   ]
  },
  {
   "cell_type": "markdown",
   "id": "0037f1cb",
   "metadata": {},
   "source": [
    "# Compute Median for Induction\n",
    "\n",
    "Tox filtered\n",
    "\n",
    "Remove only toxic compounds\n",
    "\n",
    "Non Replicating compounds are not removed\n"
   ]
  },
  {
   "cell_type": "code",
   "execution_count": 35,
   "id": "00079d8f",
   "metadata": {},
   "outputs": [],
   "source": [
    "## gets feature vector\n",
    "Features_U2OS_Norm_Reduced = UTIL.get_feature_vector(U2OS_Reduced_Tox)\n",
    "\n",
    "U2OS_Norm_Reduced_Median = pycytominer.consensus(\n",
    "        profiles = U2OS_Reduced_Tox, # A file or pandas DataFrame of profile data\n",
    "        replicate_columns = [\"Metadata_EOS\", \"Metadata_Plate\", \"Metadata_Concentration\", \"Metadata_Partner\"], # Metadata columns indicating which replicates to collapse, defaults to [“Metadata_Plate”, “Metadata_Well”]\n",
    "        operation = \"median\", # (str) – The method used to form consensus profiles, defaults to “median”\n",
    "        features = Features_U2OS_Norm_Reduced, # (str, list) – The features to collapse, defaults to “infer”\n",
    ")"
   ]
  },
  {
   "cell_type": "code",
   "execution_count": 36,
   "id": "17a7ccf3",
   "metadata": {},
   "outputs": [
    {
     "data": {
      "text/plain": [
       "2290"
      ]
     },
     "execution_count": 36,
     "metadata": {},
     "output_type": "execute_result"
    }
   ],
   "source": [
    "len(U2OS_Norm_Reduced_Median[\"Metadata_EOS\"].unique())"
   ]
  },
  {
   "cell_type": "code",
   "execution_count": 37,
   "id": "56809a55",
   "metadata": {},
   "outputs": [],
   "source": [
    "## gets feature vector\n",
    "Features_HepG2_Norm_Reduced = UTIL.get_feature_vector(HepG2_Reduced_Tox)\n",
    "\n",
    "HepG2_Norm_Reduced_Median = pycytominer.consensus(\n",
    "        profiles = HepG2_Reduced_Tox, # A file or pandas DataFrame of profile data\n",
    "        replicate_columns = [\"Metadata_EOS\", \"Metadata_Plate\", \"Metadata_Concentration\", \"Metadata_Partner\"], # Metadata columns indicating which replicates to collapse, defaults to [“Metadata_Plate”, “Metadata_Well”]\n",
    "        operation = \"median\", # (str) – The method used to form consensus profiles, defaults to “median”\n",
    "        features = Features_HepG2_Norm_Reduced, # (str, list) – The features to collapse, defaults to “infer”\n",
    ")"
   ]
  },
  {
   "cell_type": "code",
   "execution_count": 38,
   "id": "9840c0cc",
   "metadata": {},
   "outputs": [
    {
     "data": {
      "text/plain": [
       "2364"
      ]
     },
     "execution_count": 38,
     "metadata": {},
     "output_type": "execute_result"
    }
   ],
   "source": [
    "len(HepG2_Norm_Reduced_Median[\"Metadata_EOS\"].unique())"
   ]
  },
  {
   "cell_type": "markdown",
   "id": "c88042fc",
   "metadata": {},
   "source": [
    "# Remove compounds with low acitivity"
   ]
  },
  {
   "cell_type": "code",
   "execution_count": 39,
   "id": "d233d7fb",
   "metadata": {},
   "outputs": [
    {
     "name": "stdout",
     "output_type": "stream",
     "text": [
      "U2OS active: 1600\n",
      "U2OS low-active: 690\n"
     ]
    }
   ],
   "source": [
    "key_col = [\"Metadata_EOS\", \"Metadata_Plate\", \"Metadata_Concentration\", \"Metadata_Partner\"]\n",
    "\n",
    "U2OS_active, U2OS_low_active = UTIL.remove_low_active(U2OS_Norm_Reduced_Median, \n",
    "                                                   key_col,\n",
    "                                                   3.0, \n",
    "                                                   5.0)\n",
    "\n",
    "print(\"U2OS active:\", len(U2OS_active[\"Metadata_EOS\"].unique()))\n",
    "print(\"U2OS low-active:\", len(U2OS_low_active[\"Metadata_EOS\"].unique()))"
   ]
  },
  {
   "cell_type": "code",
   "execution_count": 40,
   "id": "055063f6",
   "metadata": {},
   "outputs": [
    {
     "name": "stdout",
     "output_type": "stream",
     "text": [
      "HepG2 active: 861\n",
      "HepG2 low-active: 1503\n"
     ]
    }
   ],
   "source": [
    "key_col = [\"Metadata_EOS\", \"Metadata_Plate\", \"Metadata_Concentration\", \"Metadata_Partner\"]\n",
    "\n",
    "HepG2_active, HepG2_low_active = UTIL.remove_low_active(HepG2_Norm_Reduced_Median, \n",
    "                                                   key_col,\n",
    "                                                   3.0, \n",
    "                                                   5.0)\n",
    "\n",
    "print(\"HepG2 active:\", len(HepG2_active[\"Metadata_EOS\"].unique()))\n",
    "print(\"HepG2 low-active:\", len(HepG2_low_active[\"Metadata_EOS\"].unique()))"
   ]
  },
  {
   "cell_type": "code",
   "execution_count": 41,
   "id": "fb6bca95",
   "metadata": {},
   "outputs": [],
   "source": [
    "# take only unique EOS values (multiple DMSO)\n",
    "U2OS_low_active = pd.DataFrame(U2OS_low_active[\"Metadata_EOS\"].unique(), columns = [\"Metadata_EOS\"])\n",
    "HepG2_low_active = pd.DataFrame(HepG2_low_active[\"Metadata_EOS\"].unique(), columns = [\"Metadata_EOS\"])\n",
    "\n",
    "U2OS_HepG2_low_active = pd.merge(U2OS_low_active,\n",
    "                                HepG2_low_active,\n",
    "                                on = [\"Metadata_EOS\"],\n",
    "                                how = \"outer\",\n",
    "                                indicator = True)"
   ]
  },
  {
   "cell_type": "code",
   "execution_count": 42,
   "id": "9400cb27",
   "metadata": {},
   "outputs": [
    {
     "data": {
      "text/plain": [
       "right_only    901\n",
       "both          602\n",
       "left_only      88\n",
       "Name: _merge, dtype: int64"
      ]
     },
     "execution_count": 42,
     "metadata": {},
     "output_type": "execute_result"
    }
   ],
   "source": [
    "induction_for_venn = U2OS_HepG2_low_active['_merge'].value_counts()\n",
    "induction_for_venn "
   ]
  },
  {
   "cell_type": "code",
   "execution_count": 43,
   "id": "66b98e10",
   "metadata": {},
   "outputs": [
    {
     "data": {
      "image/png": "[encoded data removed]",
      "text/plain": [
       "<Figure size 432x288 with 1 Axes>"
      ]
     },
     "metadata": {},
     "output_type": "display_data"
    }
   ],
   "source": [
    "venn2(subsets = (induction_for_venn[2], \n",
    "                 induction_for_venn[0], \n",
    "                 induction_for_venn[1]), set_labels = ('U2OS', 'HepG2'))\n",
    "\n",
    "plt.savefig(figure_path + str(date.today()) + \"_FMP_Induction_Overlap.pdf\", \n",
    "            transparent=False, \n",
    "            bbox_inches='tight', \n",
    "            dpi = 600)"
   ]
  },
  {
   "cell_type": "code",
   "execution_count": 44,
   "id": "6bf526f9",
   "metadata": {},
   "outputs": [],
   "source": [
    "filename_HepG2_low_active = output_path +  str(date.today()) + \"_FMP_HepG2_low-active.csv\"\n",
    "HepG2_low_active.to_csv(filename_HepG2_low_active, index = False)"
   ]
  },
  {
   "cell_type": "code",
   "execution_count": 45,
   "id": "e34fff11",
   "metadata": {},
   "outputs": [],
   "source": [
    "filename_U2OS_low_active = output_path +  str(date.today()) + \"_FMP_U2OS_low-active.csv\"\n",
    "U2OS_low_active.to_csv(filename_U2OS_low_active, index = False)"
   ]
  },
  {
   "cell_type": "markdown",
   "id": "31b6e24a",
   "metadata": {},
   "source": [
    "## Filter non active compounds from non consensus dataframe"
   ]
  },
  {
   "cell_type": "code",
   "execution_count": 46,
   "id": "c838b31d",
   "metadata": {},
   "outputs": [],
   "source": [
    "U2OS_Reduced_Tox_active = U2OS_Reduced_Tox[\n",
    "    (U2OS_Reduced_Tox['Metadata_EOS'].isin(U2OS_active['Metadata_EOS']))]"
   ]
  },
  {
   "cell_type": "code",
   "execution_count": 47,
   "id": "128ac0cb",
   "metadata": {},
   "outputs": [],
   "source": [
    "HepG2_Reduced_Tox_active = HepG2_Reduced_Tox[\n",
    "    (HepG2_Reduced_Tox['Metadata_EOS'].isin(HepG2_active['Metadata_EOS']))]"
   ]
  },
  {
   "cell_type": "markdown",
   "id": "6d26ba64",
   "metadata": {},
   "source": [
    "# % Replicating after Induction filter"
   ]
  },
  {
   "cell_type": "code",
   "execution_count": 48,
   "id": "4108e7bd",
   "metadata": {},
   "outputs": [
    {
     "name": "stdout",
     "output_type": "stream",
     "text": [
      "| Description   |   Percent_Replicating |\n",
      "|:--------------|----------------------:|\n",
      "| Data_50       |                  83.7 |\n",
      "Nonreplicating conditions removed with threshold 0.6\n",
      "Old shape (6436, 745)\n",
      "New shape (5393, 745)\n"
     ]
    },
    {
     "name": "stderr",
     "output_type": "stream",
     "text": [
      "/home/schmiedc/FMP_Docs/Projects/Bioactives_data/notebooks/utility_functions.py:390: FutureWarning: The frame.append method is deprecated and will be removed from pandas in a future version. Use pandas.concat instead.\n",
      "  corr_replicating_df = corr_replicating_df.append({'Description': description,\n"
     ]
    }
   ],
   "source": [
    "U2OS_active_replicating, U2OS_active_corr_replicating_df = UTIL.remove_non_reproducible(\n",
    "    U2OS_Reduced_Tox_active, \n",
    "    n_samples = 10000, \n",
    "    n_replicates = 4, \n",
    "    ID_col = \"Metadata_EOS\", \n",
    "    description = \"Data_50\")"
   ]
  },
  {
   "cell_type": "code",
   "execution_count": 49,
   "id": "0ae130c2",
   "metadata": {},
   "outputs": [],
   "source": [
    "filename_U2OS_Norm_Reduced_Filtered = output_path + str(date.today()) + \"_FMP_U2OS_norm_reduced_filtered.csv\"\n",
    "U2OS_active_replicating.to_csv(filename_U2OS_Norm_Reduced_Filtered, index = False)"
   ]
  },
  {
   "cell_type": "code",
   "execution_count": 50,
   "id": "40c4ed70",
   "metadata": {},
   "outputs": [
    {
     "data": {
      "image/png": "[encoded data removed]",
      "text/plain": [
       "<Figure size 864x432 with 1 Axes>"
      ]
     },
     "metadata": {},
     "output_type": "display_data"
    }
   ],
   "source": [
    "corr_replicating_df = U2OS_active_corr_replicating_df\n",
    "\n",
    "n_experiments = len(corr_replicating_df)\n",
    "\n",
    "\n",
    "plt.rcParams['figure.facecolor'] = 'white' # Enabling this makes the figure axes and labels visible in PyCharm Dracula theme\n",
    "plt.figure(figsize=[12, n_experiments*6])\n",
    "\n",
    "for i in range(n_experiments):\n",
    "    plt.subplot(n_experiments, 1, i+1)\n",
    "    plt.hist(corr_replicating_df.loc[i,'Null_Replicating'], label='non-replicates', density=True, bins=20, alpha=0.5)\n",
    "    plt.hist(corr_replicating_df.loc[i,'Replicating'], label='replicates', density=True, bins=20, alpha=0.5)\n",
    "    plt.axvline(corr_replicating_df.loc[i,'Value_95'], label='95% threshold')\n",
    "    plt.legend(fontsize=20)\n",
    "    plt.title(\n",
    "        f\"{U2OS_active_corr_replicating_df.loc[i,'Description']}\\n\" +\n",
    "        f\"Percent Replicating = {corr_replicating_df.loc[i,'Percent_Replicating']}\",\n",
    "        fontsize=25\n",
    "    )\n",
    "    plt.ylabel(\"density\", fontsize=25)\n",
    "    plt.xlabel(\"Batch correlation\", fontsize=25)\n",
    "    plt.xticks(fontsize=20)\n",
    "    plt.yticks(fontsize=20)\n",
    "    sns.despine()\n",
    "plt.tight_layout()\n",
    "\n",
    "plt.savefig(figure_path + str(date.today()) + \"_FMP_U2OS_Percent_Replicating_Induction_Filter.pdf\", \n",
    "            transparent=False, \n",
    "            bbox_inches='tight', \n",
    "            dpi = 600)"
   ]
  },
  {
   "cell_type": "code",
   "execution_count": 51,
   "id": "accfc174",
   "metadata": {},
   "outputs": [],
   "source": [
    "# save non replicating compounds\n",
    "U2OS_non_replicating = U2OS_Reduced_Tox_active[\n",
    "    (~U2OS_Reduced_Tox_active['Metadata_EOS'].isin(U2OS_active_replicating['Metadata_EOS']))]\n",
    "\n",
    "U2OS_non_replicating_EOS = pd.DataFrame(U2OS_non_replicating[\"Metadata_EOS\"].unique(), columns = [\"Metadata_EOS\"])\n",
    "\n",
    "filename_U2OS_non_replicating = output_path +  str(date.today()) + \"_FMP_U2OS_non-replicating.csv\"\n",
    "U2OS_non_replicating_EOS.to_csv(filename_U2OS_non_replicating, index = False)"
   ]
  },
  {
   "cell_type": "code",
   "execution_count": 52,
   "id": "fbddd0aa",
   "metadata": {},
   "outputs": [
    {
     "name": "stdout",
     "output_type": "stream",
     "text": [
      "| Description   |   Percent_Replicating |\n",
      "|:--------------|----------------------:|\n",
      "| Data_50       |                  91.6 |\n",
      "Nonreplicating conditions removed with threshold 0.48\n",
      "Old shape (3547, 661)\n",
      "New shape (3259, 661)\n"
     ]
    },
    {
     "name": "stderr",
     "output_type": "stream",
     "text": [
      "/home/schmiedc/FMP_Docs/Projects/Bioactives_data/notebooks/utility_functions.py:390: FutureWarning: The frame.append method is deprecated and will be removed from pandas in a future version. Use pandas.concat instead.\n",
      "  corr_replicating_df = corr_replicating_df.append({'Description': description,\n"
     ]
    }
   ],
   "source": [
    "HepG2_active_replicating, HepG2_active_corr_replicating_df = UTIL.remove_non_reproducible(\n",
    "    HepG2_Reduced_Tox_active, \n",
    "    n_samples = 10000, \n",
    "    n_replicates = 4, \n",
    "    ID_col = \"Metadata_EOS\", \n",
    "    description = \"Data_50\")"
   ]
  },
  {
   "cell_type": "code",
   "execution_count": 53,
   "id": "b794d47a",
   "metadata": {},
   "outputs": [],
   "source": [
    "filename_HepG2_Norm_Reduced_Filtered = output_path + str(date.today()) + \"_FMP_HepG2_norm_reduced_filtered.csv\"\n",
    "HepG2_active_replicating.to_csv(filename_HepG2_Norm_Reduced_Filtered, index = False)"
   ]
  },
  {
   "cell_type": "code",
   "execution_count": 54,
   "id": "efe11e5c",
   "metadata": {},
   "outputs": [
    {
     "data": {
      "image/png": "[encoded data removed]",
      "text/plain": [
       "<Figure size 864x432 with 1 Axes>"
      ]
     },
     "metadata": {},
     "output_type": "display_data"
    }
   ],
   "source": [
    "corr_replicating_df = HepG2_active_corr_replicating_df\n",
    "\n",
    "n_experiments = len(corr_replicating_df)\n",
    "\n",
    "\n",
    "plt.rcParams['figure.facecolor'] = 'white' # Enabling this makes the figure axes and labels visible in PyCharm Dracula theme\n",
    "plt.figure(figsize=[12, n_experiments*6])\n",
    "\n",
    "for i in range(n_experiments):\n",
    "    plt.subplot(n_experiments, 1, i+1)\n",
    "    plt.hist(corr_replicating_df.loc[i,'Null_Replicating'], label='non-replicates', density=True, bins=20, alpha=0.5)\n",
    "    plt.hist(corr_replicating_df.loc[i,'Replicating'], label='replicates', density=True, bins=20, alpha=0.5)\n",
    "    plt.axvline(corr_replicating_df.loc[i,'Value_95'], label='95% threshold')\n",
    "    plt.legend(fontsize=20)\n",
    "    plt.title(\n",
    "        f\"{HepG2_active_corr_replicating_df.loc[i,'Description']}\\n\" +\n",
    "        f\"Percent Replicating = {corr_replicating_df.loc[i,'Percent_Replicating']}\",\n",
    "        fontsize=25\n",
    "    )\n",
    "    plt.ylabel(\"density\", fontsize=25)\n",
    "    plt.xlabel(\"Batch correlation\", fontsize=25)\n",
    "    plt.xticks(fontsize=20)\n",
    "    plt.yticks(fontsize=20)\n",
    "    sns.despine()\n",
    "plt.tight_layout()\n",
    "\n",
    "plt.savefig(figure_path + str(date.today()) + \"_FMP_HepG2_Percent_Replicating_Induction_Filter.pdf\", \n",
    "            transparent=False, \n",
    "            bbox_inches='tight', \n",
    "            dpi = 600)"
   ]
  },
  {
   "cell_type": "code",
   "execution_count": 55,
   "id": "cc3c6d13",
   "metadata": {},
   "outputs": [],
   "source": [
    "# save non replicating compounds\n",
    "HepG2_non_replicating = HepG2_Reduced_Tox_active[\n",
    "    (~HepG2_Reduced_Tox_active['Metadata_EOS'].isin(HepG2_active_replicating['Metadata_EOS']))]\n",
    "\n",
    "HepG2_non_replicating_EOS = pd.DataFrame(HepG2_non_replicating[\"Metadata_EOS\"].unique(), columns = [\"Metadata_EOS\"])\n",
    "\n",
    "filename_HepG2_non_replicating = output_path +  str(date.today()) + \"_FMP_HepG2_non-replicating.csv\"\n",
    "HepG2_non_replicating_EOS.to_csv(filename_HepG2_non_replicating, index = False)"
   ]
  },
  {
   "cell_type": "markdown",
   "id": "fbfbe74a",
   "metadata": {},
   "source": [
    "# Consensus Tox, Induction, Replication Filter"
   ]
  },
  {
   "cell_type": "code",
   "execution_count": 56,
   "id": "5e17e770",
   "metadata": {},
   "outputs": [],
   "source": [
    "## gets feature vector\n",
    "Features_U2OS_Norm_Reduced_Filtered = UTIL.get_feature_vector(U2OS_active_replicating)\n",
    "\n",
    "U2OS_Norm_Reduced_Filtered_Median = pycytominer.consensus(\n",
    "        profiles = U2OS_active_replicating, # A file or pandas DataFrame of profile data\n",
    "        replicate_columns = [\"Metadata_EOS\", \"Metadata_Plate\", \"Metadata_Concentration\", \"Metadata_Partner\"], # Metadata columns indicating which replicates to collapse, defaults to [“Metadata_Plate”, “Metadata_Well”]\n",
    "        operation = \"median\", # (str) – The method used to form consensus profiles, defaults to “median”\n",
    "        features = Features_U2OS_Norm_Reduced, # (str, list) – The features to collapse, defaults to “infer”\n",
    ")"
   ]
  },
  {
   "cell_type": "code",
   "execution_count": 57,
   "id": "e7dd7a6d",
   "metadata": {},
   "outputs": [
    {
     "data": {
      "text/plain": [
       "1339"
      ]
     },
     "execution_count": 57,
     "metadata": {},
     "output_type": "execute_result"
    }
   ],
   "source": [
    "len(U2OS_Norm_Reduced_Filtered_Median[\"Metadata_EOS\"].unique())"
   ]
  },
  {
   "cell_type": "code",
   "execution_count": 58,
   "id": "ef0884c7",
   "metadata": {},
   "outputs": [],
   "source": [
    "filename_U2OS_Norm_Reduced_Filtered_Median = output_path + str(date.today()) + \"_FMP_U2OS_norm_reduced_filtered_median.csv\"\n",
    "U2OS_Norm_Reduced_Filtered_Median.to_csv(filename_U2OS_Norm_Reduced_Filtered_Median, index = False)"
   ]
  },
  {
   "cell_type": "code",
   "execution_count": 59,
   "id": "0aba3cf1",
   "metadata": {},
   "outputs": [],
   "source": [
    "## gets feature vector\n",
    "Features_HepG2_Norm_Reduced_Filtered = UTIL.get_feature_vector(HepG2_active_replicating)\n",
    "\n",
    "HepG2_Norm_Reduced_Filtered_Median = pycytominer.consensus(\n",
    "        profiles = HepG2_active_replicating, # A file or pandas DataFrame of profile data\n",
    "        replicate_columns = [\"Metadata_EOS\", \"Metadata_Plate\", \"Metadata_Concentration\", \"Metadata_Partner\"], # Metadata columns indicating which replicates to collapse, defaults to [“Metadata_Plate”, “Metadata_Well”]\n",
    "        operation = \"median\", # (str) – The method used to form consensus profiles, defaults to “median”\n",
    "        features = Features_HepG2_Norm_Reduced, # (str, list) – The features to collapse, defaults to “infer”\n",
    ")"
   ]
  },
  {
   "cell_type": "code",
   "execution_count": 60,
   "id": "d8baff59",
   "metadata": {},
   "outputs": [
    {
     "data": {
      "text/plain": [
       "789"
      ]
     },
     "execution_count": 60,
     "metadata": {},
     "output_type": "execute_result"
    }
   ],
   "source": [
    "len(HepG2_Norm_Reduced_Filtered_Median[\"Metadata_EOS\"].unique())"
   ]
  },
  {
   "cell_type": "code",
   "execution_count": 61,
   "id": "6d7f09fa",
   "metadata": {},
   "outputs": [],
   "source": [
    "filename_HepG2_Norm_Reduced_Filtered_Median = output_path + str(date.today()) + \"_FMP_HepG2_norm_reduced_filtered_median.csv\"\n",
    "HepG2_Norm_Reduced_Filtered_Median.to_csv(filename_HepG2_Norm_Reduced_Filtered_Median, index = False)"
   ]
  },
  {
   "cell_type": "markdown",
   "id": "2a804130",
   "metadata": {},
   "source": [
    "# Get non-replicating compounds"
   ]
  },
  {
   "cell_type": "code",
   "execution_count": 62,
   "id": "89cebf14",
   "metadata": {},
   "outputs": [],
   "source": [
    "U2OS_non_replicating_merge = pd.merge(U2OS_active,\n",
    "                                U2OS_Norm_Reduced_Filtered_Median,\n",
    "                                on = [\"Metadata_EOS\"],\n",
    "                                how = \"outer\",\n",
    "                                indicator = True)\n",
    "\n",
    "U2OS_non_replicating = U2OS_non_replicating_merge[\n",
    "    U2OS_non_replicating_merge[\"_merge\"] == 'left_only'].dropna(axis='columns')"
   ]
  },
  {
   "cell_type": "code",
   "execution_count": 63,
   "id": "a1683a8f",
   "metadata": {},
   "outputs": [
    {
     "data": {
      "text/plain": [
       "both          1387\n",
       "left_only      261\n",
       "right_only       0\n",
       "Name: _merge, dtype: int64"
      ]
     },
     "execution_count": 63,
     "metadata": {},
     "output_type": "execute_result"
    }
   ],
   "source": [
    "U2OS_non_replicating_merge['_merge'].value_counts()"
   ]
  },
  {
   "cell_type": "code",
   "execution_count": 64,
   "id": "2a1bdd3d",
   "metadata": {},
   "outputs": [],
   "source": [
    "HepG2_non_replicating_merge = pd.merge(HepG2_active,\n",
    "                                HepG2_Norm_Reduced_Filtered_Median,\n",
    "                                on = [\"Metadata_EOS\"],\n",
    "                                how = \"outer\",\n",
    "                                indicator = True)\n",
    "\n",
    "HepG2_non_replicating = HepG2_non_replicating_merge[\n",
    "    HepG2_non_replicating_merge[\"_merge\"] == 'left_only'].dropna(axis='columns')"
   ]
  },
  {
   "cell_type": "code",
   "execution_count": 65,
   "id": "06a1d8ed",
   "metadata": {},
   "outputs": [
    {
     "data": {
      "text/plain": [
       "both          885\n",
       "left_only      72\n",
       "right_only      0\n",
       "Name: _merge, dtype: int64"
      ]
     },
     "execution_count": 65,
     "metadata": {},
     "output_type": "execute_result"
    }
   ],
   "source": [
    "HepG2_non_replicating_merge['_merge'].value_counts()"
   ]
  },
  {
   "cell_type": "code",
   "execution_count": 66,
   "id": "373badbc",
   "metadata": {},
   "outputs": [],
   "source": [
    "U2OS_HepG2_non_replicating = pd.merge(U2OS_non_replicating.drop([\"_merge\"], axis=1),\n",
    "                                HepG2_non_replicating.drop([\"_merge\"], axis=1),\n",
    "                                on = [\"Metadata_EOS\"],\n",
    "                                how = \"outer\",\n",
    "                                indicator = True)"
   ]
  },
  {
   "cell_type": "code",
   "execution_count": 67,
   "id": "47402eac",
   "metadata": {},
   "outputs": [],
   "source": [
    "non_replicating_venn = U2OS_HepG2_non_replicating['_merge'].value_counts()"
   ]
  },
  {
   "cell_type": "code",
   "execution_count": 68,
   "id": "5cd5f537",
   "metadata": {},
   "outputs": [
    {
     "data": {
      "image/png": "[encoded data removed]",
      "text/plain": [
       "<Figure size 432x288 with 1 Axes>"
      ]
     },
     "metadata": {},
     "output_type": "display_data"
    }
   ],
   "source": [
    "venn2(subsets = (non_replicating_venn[0], \n",
    "                 non_replicating_venn[1], \n",
    "                 non_replicating_venn[2]), set_labels = ('U2OS', 'HepG2'))\n",
    "\n",
    "plt.savefig(figure_path + str(date.today()) + \"_FMP_Non_Replicating_Overlap.pdf\", \n",
    "            transparent=False, \n",
    "            bbox_inches='tight', \n",
    "            dpi = 600)"
   ]
  }
 ],
 "metadata": {
  "kernelspec": {
   "display_name": "Python 3",
   "language": "python",
   "name": "python3"
  },
  "language_info": {
   "codemirror_mode": {
    "name": "ipython",
    "version": 3
   },
   "file_extension": ".py",
   "mimetype": "text/x-python",
   "name": "python",
   "nbconvert_exporter": "python",
   "pygments_lexer": "ipython3",
   "version": "3.9.16"
  }
 },
 "nbformat": 4,
 "nbformat_minor": 5
}
