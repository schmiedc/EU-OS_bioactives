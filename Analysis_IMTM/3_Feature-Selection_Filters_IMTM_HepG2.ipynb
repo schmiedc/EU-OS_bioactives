{
 "cells": [
  {
   "cell_type": "code",
   "execution_count": 1,
   "id": "f9d091a9",
   "metadata": {},
   "outputs": [],
   "source": [
    "from datetime import date\n",
    "import pandas as pd\n",
    "import os\n",
    "import glob\n",
    "import pycytominer\n",
    "import matplotlib.pyplot as plt\n",
    "import seaborn as sns\n",
    "from matplotlib_venn import venn2 "
   ]
  },
  {
   "cell_type": "code",
   "execution_count": 2,
   "id": "a94d8765",
   "metadata": {
    "scrolled": true
   },
   "outputs": [],
   "source": [
    "# load custom collection of functions\n",
    "import sys\n",
    "sys.path.append('/home/schmiedc/FMP_Docs/Projects/Bioactives_data/notebooks/')\n",
    "import utility_functions as UTIL"
   ]
  },
  {
   "cell_type": "code",
   "execution_count": 3,
   "id": "731cc714",
   "metadata": {},
   "outputs": [],
   "source": [
    "parent_directory = \"/home/schmiedc/FMP_Docs/Projects/Bioactives_data/\"\n",
    "\n",
    "input_path = parent_directory + \"results/\"\n",
    "output_path = input_path\n",
    "\n",
    "figure_path = parent_directory + \"figures/\""
   ]
  },
  {
   "cell_type": "code",
   "execution_count": 4,
   "id": "51f7ff5b",
   "metadata": {},
   "outputs": [
    {
     "data": {
      "text/plain": [
       "(10668, 2984)"
      ]
     },
     "execution_count": 4,
     "metadata": {},
     "output_type": "execute_result"
    }
   ],
   "source": [
    "# data_HepG2_Norm = pd.read_csv(input_path + \"2023-04-11_Bioactives_HepG2_norm.csv\")\n",
    "file_HepG2_type = '/*[0-9]_' + 'IMTM_HepG2_norm.csv'\n",
    "files_HepG2 = glob.glob(input_path + file_HepG2_type)\n",
    "\n",
    "### gets latest file\n",
    "max_file_HepG2 = max(files_HepG2, key=os.path.getctime)\n",
    "\n",
    "### load file\n",
    "data_HepG2_Norm = pd.read_csv(max_file_HepG2)\n",
    "data_HepG2_Norm.shape"
   ]
  },
  {
   "cell_type": "markdown",
   "id": "b270d9c8",
   "metadata": {},
   "source": [
    "# Feature Selection\n",
    "\n",
    "Modified from Carsten Beese\n",
    "\n",
    "Variance frequency cut off 0.1\n",
    "\n",
    "Variance unique cut off 0.1\n",
    "\n",
    "Outlier cut off 100\n",
    "\n",
    "\n",
    "Modified:\n",
    "Corr Treshold 0.9"
   ]
  },
  {
   "cell_type": "code",
   "execution_count": 5,
   "id": "27501a95",
   "metadata": {},
   "outputs": [
    {
     "name": "stdout",
     "output_type": "stream",
     "text": [
      "Feature reduction with correlation threshold 0.9 and Outlier threshold 100\n",
      "| Category           |   Original Features |   Variance Threshold |   % Variance |   Outlier Threshold |   % Outlier |   Correlation Threshold |   % Correlation |\n",
      "|:-------------------|--------------------:|---------------------:|-------------:|--------------------:|------------:|------------------------:|----------------:|\n",
      "| Total Features     |                2977 |                 2808 |         94.3 |                2218 |        74.5 |                     630 |            21.2 |\n",
      "| Intensity          |                 180 |                  180 |        100   |                 172 |        95.6 |                      58 |            32.2 |\n",
      "| Correlation        |                 180 |                  124 |         68.9 |                  97 |        53.9 |                      70 |            38.9 |\n",
      "| AreaShape          |                 162 |                  153 |         94.4 |                 119 |        73.5 |                      80 |            49.4 |\n",
      "| Granularity        |                 192 |                  186 |         96.9 |                 119 |        62   |                      48 |            25   |\n",
      "| Neighbors          |                  21 |                   15 |         71.4 |                   9 |        42.9 |                       5 |            23.8 |\n",
      "| RadialDistribution |                 366 |                  277 |         75.7 |                 169 |        46.2 |                     119 |            32.5 |\n",
      "| Texture            |                1872 |                 1872 |        100   |                1533 |        81.9 |                     250 |            13.4 |\n",
      "| MitoSkeleton       |                   4 |                    1 |         25   |                   0 |         0   |                       0 |             0   |\n",
      "\n",
      "| Category       |   Original Features |   Variance Threshold |   % Variance |   Outlier Threshold |   % Outlier |   Correlation Threshold |   % Correlation |\n",
      "|:---------------|--------------------:|---------------------:|-------------:|--------------------:|------------:|------------------------:|----------------:|\n",
      "| Total Features |                2977 |                 2808 |         94.3 |                2218 |        74.5 |                     630 |            21.2 |\n",
      "| Nucleus        |                 921 |                  887 |         96.3 |                 673 |        73.1 |                     211 |            22.9 |\n",
      "| Cell           |                1035 |                  998 |         96.4 |                 806 |        77.9 |                     183 |            17.7 |\n",
      "| Cytoplasm      |                1021 |                  923 |         90.4 |                 739 |        72.4 |                     236 |            23.1 |\n"
     ]
    }
   ],
   "source": [
    "# HepG2 feature reduction\n",
    "print(\"Feature reduction with correlation threshold 0.9 and Outlier threshold 100\")\n",
    "HepG2_Reduced_Carsten_100_Mod = UTIL.feature_reduction(data_HepG2_Norm, \n",
    "                                         variance_freq_cut=0.1, \n",
    "                                         variance_unique_cut=0.1, \n",
    "                                         outlier_cutoff=100, \n",
    "                                         corr_threshold = 0.9, \n",
    "                                         print_stats = True)"
   ]
  },
  {
   "cell_type": "markdown",
   "id": "b139953e",
   "metadata": {},
   "source": [
    "# Consensus Feature reduction"
   ]
  },
  {
   "cell_type": "code",
   "execution_count": 6,
   "id": "edcfa263",
   "metadata": {},
   "outputs": [],
   "source": [
    "## gets feature vector\n",
    "Features_HepG2_Reduced_Carsten_100_Mod = UTIL.get_feature_vector(HepG2_Reduced_Carsten_100_Mod)\n",
    "Features_HepG2_Reduced_Carsten_100_Mod.append(\"Metadata_Object_Count\") \n",
    "\n",
    "\n",
    "HepG2_Norm_Reduced_Median = pycytominer.consensus(\n",
    "        profiles = HepG2_Reduced_Carsten_100_Mod, # A file or pandas DataFrame of profile data\n",
    "        replicate_columns = [\"Metadata_EOS\", \"Metadata_Plate\", \"Metadata_Concentration\", \"Metadata_Partner\"], # Metadata columns indicating which replicates to collapse, defaults to [“Metadata_Plate”, “Metadata_Well”]\n",
    "        operation = \"median\", # (str) – The method used to form consensus profiles, defaults to “median”\n",
    "        features = Features_HepG2_Reduced_Carsten_100_Mod, # (str, list) – The features to collapse, defaults to “infer”\n",
    ")"
   ]
  },
  {
   "cell_type": "code",
   "execution_count": 7,
   "id": "d03da0c9",
   "metadata": {},
   "outputs": [],
   "source": [
    "# Moves position of Metadata_Object_Count column\n",
    "HepG2_column_to_move = HepG2_Norm_Reduced_Median.pop(\"Metadata_Object_Count\")\n",
    "HepG2_Norm_Reduced_Median.insert(4, \"Metadata_Object_Count\", HepG2_column_to_move)"
   ]
  },
  {
   "cell_type": "markdown",
   "id": "f6d332b1",
   "metadata": {},
   "source": [
    "# Create Feature annotation for Profile Viz"
   ]
  },
  {
   "cell_type": "code",
   "execution_count": 8,
   "id": "6702958c",
   "metadata": {},
   "outputs": [
    {
     "data": {
      "text/html": [
       "<div>\n",
       "<style scoped>\n",
       "    .dataframe tbody tr th:only-of-type {\n",
       "        vertical-align: middle;\n",
       "    }\n",
       "\n",
       "    .dataframe tbody tr th {\n",
       "        vertical-align: top;\n",
       "    }\n",
       "\n",
       "    .dataframe thead tr th {\n",
       "        text-align: left;\n",
       "    }\n",
       "</style>\n",
       "<table border=\"1\" class=\"dataframe\">\n",
       "  <thead>\n",
       "    <tr>\n",
       "      <th></th>\n",
       "      <th colspan=\"5\" halign=\"left\">Metadata</th>\n",
       "      <th colspan=\"5\" halign=\"left\">Nuc</th>\n",
       "      <th>...</th>\n",
       "      <th colspan=\"10\" halign=\"left\">Cyto</th>\n",
       "    </tr>\n",
       "    <tr>\n",
       "      <th></th>\n",
       "      <th>EOS</th>\n",
       "      <th>Plate</th>\n",
       "      <th>Concentration</th>\n",
       "      <th>Partner</th>\n",
       "      <th>Object</th>\n",
       "      <th colspan=\"5\" halign=\"left\">AreaShape</th>\n",
       "      <th>...</th>\n",
       "      <th colspan=\"10\" halign=\"left\">Texture</th>\n",
       "    </tr>\n",
       "    <tr>\n",
       "      <th></th>\n",
       "      <th>NaN</th>\n",
       "      <th>NaN</th>\n",
       "      <th>NaN</th>\n",
       "      <th>NaN</th>\n",
       "      <th>Count</th>\n",
       "      <th>BoundingBoxMinimum_X</th>\n",
       "      <th>Eccentricity</th>\n",
       "      <th>Extent</th>\n",
       "      <th>FormFactor</th>\n",
       "      <th>MajorAxisLength</th>\n",
       "      <th>...</th>\n",
       "      <th>InverseDifferenceMoment_ER_10_00_256</th>\n",
       "      <th>InverseDifferenceMoment_ER_10_01_256</th>\n",
       "      <th>InverseDifferenceMoment_ER_10_02_256</th>\n",
       "      <th>InverseDifferenceMoment_ER_10_03_256</th>\n",
       "      <th>InverseDifferenceMoment_ER_5_00_256</th>\n",
       "      <th>InverseDifferenceMoment_ER_5_01_256</th>\n",
       "      <th>InverseDifferenceMoment_ER_5_03_256</th>\n",
       "      <th>InverseDifferenceMoment_Mito_10_03_256</th>\n",
       "      <th>SumEntropy_ER_10_03_256</th>\n",
       "      <th>SumEntropy_ER_5_02_256</th>\n",
       "    </tr>\n",
       "  </thead>\n",
       "  <tbody>\n",
       "    <tr>\n",
       "      <th>0</th>\n",
       "      <td>DMSO</td>\n",
       "      <td>B1001</td>\n",
       "      <td>0</td>\n",
       "      <td>IMTM</td>\n",
       "      <td>1374.0</td>\n",
       "      <td>0.0</td>\n",
       "      <td>0.0</td>\n",
       "      <td>0.0</td>\n",
       "      <td>0.0</td>\n",
       "      <td>9.998946e-15</td>\n",
       "      <td>...</td>\n",
       "      <td>-2.050009e-15</td>\n",
       "      <td>-2.349683e-15</td>\n",
       "      <td>0.000000e+00</td>\n",
       "      <td>-1.400356e-15</td>\n",
       "      <td>1.350049e-15</td>\n",
       "      <td>0.000000e+00</td>\n",
       "      <td>1.450012e-15</td>\n",
       "      <td>-1.150122e-15</td>\n",
       "      <td>0.0</td>\n",
       "      <td>6.149595e-15</td>\n",
       "    </tr>\n",
       "    <tr>\n",
       "      <th>1</th>\n",
       "      <td>DMSO</td>\n",
       "      <td>B1002</td>\n",
       "      <td>0</td>\n",
       "      <td>IMTM</td>\n",
       "      <td>1353.0</td>\n",
       "      <td>0.0</td>\n",
       "      <td>0.0</td>\n",
       "      <td>0.0</td>\n",
       "      <td>0.0</td>\n",
       "      <td>0.000000e+00</td>\n",
       "      <td>...</td>\n",
       "      <td>0.000000e+00</td>\n",
       "      <td>0.000000e+00</td>\n",
       "      <td>2.249936e-15</td>\n",
       "      <td>0.000000e+00</td>\n",
       "      <td>-1.099815e-15</td>\n",
       "      <td>1.150122e-15</td>\n",
       "      <td>0.000000e+00</td>\n",
       "      <td>0.000000e+00</td>\n",
       "      <td>0.0</td>\n",
       "      <td>0.000000e+00</td>\n",
       "    </tr>\n",
       "    <tr>\n",
       "      <th>2</th>\n",
       "      <td>DMSO</td>\n",
       "      <td>B1003</td>\n",
       "      <td>0</td>\n",
       "      <td>IMTM</td>\n",
       "      <td>1469.0</td>\n",
       "      <td>0.0</td>\n",
       "      <td>0.0</td>\n",
       "      <td>0.0</td>\n",
       "      <td>0.0</td>\n",
       "      <td>0.000000e+00</td>\n",
       "      <td>...</td>\n",
       "      <td>0.000000e+00</td>\n",
       "      <td>-2.550044e-15</td>\n",
       "      <td>2.150081e-15</td>\n",
       "      <td>3.599985e-15</td>\n",
       "      <td>0.000000e+00</td>\n",
       "      <td>-1.850028e-15</td>\n",
       "      <td>-1.700029e-15</td>\n",
       "      <td>0.000000e+00</td>\n",
       "      <td>0.0</td>\n",
       "      <td>0.000000e+00</td>\n",
       "    </tr>\n",
       "    <tr>\n",
       "      <th>3</th>\n",
       "      <td>DMSO</td>\n",
       "      <td>B1004</td>\n",
       "      <td>0</td>\n",
       "      <td>IMTM</td>\n",
       "      <td>1224.5</td>\n",
       "      <td>0.0</td>\n",
       "      <td>0.0</td>\n",
       "      <td>0.0</td>\n",
       "      <td>0.0</td>\n",
       "      <td>7.550004e-15</td>\n",
       "      <td>...</td>\n",
       "      <td>0.000000e+00</td>\n",
       "      <td>1.600066e-15</td>\n",
       "      <td>1.949829e-15</td>\n",
       "      <td>0.000000e+00</td>\n",
       "      <td>0.000000e+00</td>\n",
       "      <td>1.750119e-15</td>\n",
       "      <td>-1.650156e-15</td>\n",
       "      <td>-7.997075e-16</td>\n",
       "      <td>0.0</td>\n",
       "      <td>0.000000e+00</td>\n",
       "    </tr>\n",
       "    <tr>\n",
       "      <th>4</th>\n",
       "      <td>DMSO</td>\n",
       "      <td>B1005</td>\n",
       "      <td>0</td>\n",
       "      <td>IMTM</td>\n",
       "      <td>1681.5</td>\n",
       "      <td>0.0</td>\n",
       "      <td>0.0</td>\n",
       "      <td>0.0</td>\n",
       "      <td>0.0</td>\n",
       "      <td>8.050852e-15</td>\n",
       "      <td>...</td>\n",
       "      <td>0.000000e+00</td>\n",
       "      <td>0.000000e+00</td>\n",
       "      <td>0.000000e+00</td>\n",
       "      <td>0.000000e+00</td>\n",
       "      <td>0.000000e+00</td>\n",
       "      <td>0.000000e+00</td>\n",
       "      <td>1.749902e-15</td>\n",
       "      <td>0.000000e+00</td>\n",
       "      <td>0.0</td>\n",
       "      <td>0.000000e+00</td>\n",
       "    </tr>\n",
       "  </tbody>\n",
       "</table>\n",
       "<p>5 rows × 635 columns</p>\n",
       "</div>"
      ],
      "text/plain": [
       "  Metadata                                                       Nuc  \\\n",
       "       EOS  Plate Concentration Partner  Object            AreaShape   \n",
       "       NaN    NaN           NaN     NaN   Count BoundingBoxMinimum_X   \n",
       "0     DMSO  B1001             0    IMTM  1374.0                  0.0   \n",
       "1     DMSO  B1002             0    IMTM  1353.0                  0.0   \n",
       "2     DMSO  B1003             0    IMTM  1469.0                  0.0   \n",
       "3     DMSO  B1004             0    IMTM  1224.5                  0.0   \n",
       "4     DMSO  B1005             0    IMTM  1681.5                  0.0   \n",
       "\n",
       "                                                  ...  \\\n",
       "                                                  ...   \n",
       "  Eccentricity Extent FormFactor MajorAxisLength  ...   \n",
       "0          0.0    0.0        0.0    9.998946e-15  ...   \n",
       "1          0.0    0.0        0.0    0.000000e+00  ...   \n",
       "2          0.0    0.0        0.0    0.000000e+00  ...   \n",
       "3          0.0    0.0        0.0    7.550004e-15  ...   \n",
       "4          0.0    0.0        0.0    8.050852e-15  ...   \n",
       "\n",
       "                                  Cyto                                       \\\n",
       "                               Texture                                        \n",
       "  InverseDifferenceMoment_ER_10_00_256 InverseDifferenceMoment_ER_10_01_256   \n",
       "0                        -2.050009e-15                        -2.349683e-15   \n",
       "1                         0.000000e+00                         0.000000e+00   \n",
       "2                         0.000000e+00                        -2.550044e-15   \n",
       "3                         0.000000e+00                         1.600066e-15   \n",
       "4                         0.000000e+00                         0.000000e+00   \n",
       "\n",
       "                                                                             \\\n",
       "                                                                              \n",
       "  InverseDifferenceMoment_ER_10_02_256 InverseDifferenceMoment_ER_10_03_256   \n",
       "0                         0.000000e+00                        -1.400356e-15   \n",
       "1                         2.249936e-15                         0.000000e+00   \n",
       "2                         2.150081e-15                         3.599985e-15   \n",
       "3                         1.949829e-15                         0.000000e+00   \n",
       "4                         0.000000e+00                         0.000000e+00   \n",
       "\n",
       "                                                                           \\\n",
       "                                                                            \n",
       "  InverseDifferenceMoment_ER_5_00_256 InverseDifferenceMoment_ER_5_01_256   \n",
       "0                        1.350049e-15                        0.000000e+00   \n",
       "1                       -1.099815e-15                        1.150122e-15   \n",
       "2                        0.000000e+00                       -1.850028e-15   \n",
       "3                        0.000000e+00                        1.750119e-15   \n",
       "4                        0.000000e+00                        0.000000e+00   \n",
       "\n",
       "                                                                              \\\n",
       "                                                                               \n",
       "  InverseDifferenceMoment_ER_5_03_256 InverseDifferenceMoment_Mito_10_03_256   \n",
       "0                        1.450012e-15                          -1.150122e-15   \n",
       "1                        0.000000e+00                           0.000000e+00   \n",
       "2                       -1.700029e-15                           0.000000e+00   \n",
       "3                       -1.650156e-15                          -7.997075e-16   \n",
       "4                        1.749902e-15                           0.000000e+00   \n",
       "\n",
       "                                                  \n",
       "                                                  \n",
       "  SumEntropy_ER_10_03_256 SumEntropy_ER_5_02_256  \n",
       "0                     0.0           6.149595e-15  \n",
       "1                     0.0           0.000000e+00  \n",
       "2                     0.0           0.000000e+00  \n",
       "3                     0.0           0.000000e+00  \n",
       "4                     0.0           0.000000e+00  \n",
       "\n",
       "[5 rows x 635 columns]"
      ]
     },
     "execution_count": 8,
     "metadata": {},
     "output_type": "execute_result"
    }
   ],
   "source": [
    "HepG2_Norm_Reduced_Median_copy = HepG2_Norm_Reduced_Median.copy()\n",
    "HepG2_Norm_Reduced_Median_copy.columns = HepG2_Norm_Reduced_Median_copy.columns.str.split('_', expand=True, n=2)\n",
    "HepG2_Norm_Reduced_Median_copy.head()"
   ]
  },
  {
   "cell_type": "code",
   "execution_count": 9,
   "id": "3620da70",
   "metadata": {},
   "outputs": [],
   "source": [
    "filename_HepG2_Norm_Reduced_Median_ProfileViz = output_path + \"ProfileViz/\" +  str(date.today()) + \"_IMTM_HepG2_norm_reduced_Median_ProfileViz.csv\"\n",
    "HepG2_Norm_Reduced_Median_copy.to_csv(filename_HepG2_Norm_Reduced_Median_ProfileViz, index = False)"
   ]
  },
  {
   "cell_type": "markdown",
   "id": "ed9db4f8",
   "metadata": {},
   "source": [
    "# Remove toxic compounds"
   ]
  },
  {
   "cell_type": "code",
   "execution_count": 10,
   "id": "7d9f818a",
   "metadata": {},
   "outputs": [
    {
     "name": "stdout",
     "output_type": "stream",
     "text": [
      "Toxic conditions removed with threshold 417.94\n",
      "Old shape (10668, 637)\n",
      "New shape (10251, 637)\n"
     ]
    },
    {
     "data": {
      "image/png": "[encoded data removed]",
      "text/plain": [
       "<Figure size 432x288 with 2 Axes>"
      ]
     },
     "metadata": {
      "needs_background": "light"
     },
     "output_type": "display_data"
    }
   ],
   "source": [
    "HepG2_Reduced_Tox, HepG2_Reduced_Tox_Cond = UTIL.remove_tox(\n",
    "    HepG2_Reduced_Carsten_100_Mod, \n",
    "    key_col = [\"Metadata_EOS\", \"Metadata_Plate\"], \n",
    "    SD_Threshold = 2.5,  \n",
    "    plot_distribution = True)"
   ]
  },
  {
   "cell_type": "code",
   "execution_count": 11,
   "id": "d6f67424",
   "metadata": {},
   "outputs": [
    {
     "data": {
      "text/plain": [
       "2349"
      ]
     },
     "execution_count": 11,
     "metadata": {},
     "output_type": "execute_result"
    }
   ],
   "source": [
    "len(HepG2_Reduced_Tox[\"Metadata_EOS\"].unique())"
   ]
  },
  {
   "cell_type": "markdown",
   "id": "a45a7569",
   "metadata": {},
   "source": [
    "# Raw % replication"
   ]
  },
  {
   "cell_type": "code",
   "execution_count": 12,
   "id": "6a6ae5f2",
   "metadata": {},
   "outputs": [
    {
     "name": "stdout",
     "output_type": "stream",
     "text": [
      "| Description   |   Percent_Replicating |\n",
      "|:--------------|----------------------:|\n",
      "| Data_50       |                  77.5 |\n",
      "Nonreplicating conditions removed with threshold 0.29\n",
      "Old shape (10251, 637)\n",
      "New shape (8166, 637)\n"
     ]
    },
    {
     "name": "stderr",
     "output_type": "stream",
     "text": [
      "/home/schmiedc/FMP_Docs/Projects/Bioactives_data/notebooks/utility_functions.py:390: FutureWarning: The frame.append method is deprecated and will be removed from pandas in a future version. Use pandas.concat instead.\n",
      "  corr_replicating_df = corr_replicating_df.append({'Description': description,\n"
     ]
    }
   ],
   "source": [
    "HepG2_replicating, HepG2_corr_replicating_df = UTIL.remove_non_reproducible(\n",
    "    HepG2_Reduced_Tox, \n",
    "    n_samples = 10000, \n",
    "    n_replicates = 4, \n",
    "    ID_col = \"Metadata_EOS\", \n",
    "    description = \"Data_50\")"
   ]
  },
  {
   "cell_type": "code",
   "execution_count": 13,
   "id": "68dd3043",
   "metadata": {},
   "outputs": [
    {
     "data": {
      "image/png": "[encoded data removed]",
      "text/plain": [
       "<Figure size 864x432 with 1 Axes>"
      ]
     },
     "metadata": {},
     "output_type": "display_data"
    }
   ],
   "source": [
    "n_experiments = len(HepG2_corr_replicating_df)\n",
    "\n",
    "plt.rcParams['figure.facecolor'] = 'white' # Enabling this makes the figure axes and labels visible in PyCharm Dracula theme\n",
    "plt.figure(figsize=[12, n_experiments*6])\n",
    "\n",
    "for i in range(n_experiments):\n",
    "    plt.subplot(n_experiments, 1, i+1)\n",
    "    plt.hist(HepG2_corr_replicating_df.loc[i,'Null_Replicating'], label='non-replicates', density=True, bins=20, alpha=0.5)\n",
    "    plt.hist(HepG2_corr_replicating_df.loc[i,'Replicating'], label='replicates', density=True, bins=20, alpha=0.5)\n",
    "    plt.axvline(HepG2_corr_replicating_df.loc[i,'Value_95'], label='95% threshold')\n",
    "    plt.legend(fontsize=20)\n",
    "    plt.title(\n",
    "        f\"{HepG2_corr_replicating_df.loc[i,'Description']}\\n\" +\n",
    "        f\"Percent Replicating = {HepG2_corr_replicating_df.loc[i,'Percent_Replicating']}\",\n",
    "        fontsize=25\n",
    "    )\n",
    "    plt.ylabel(\"density\", fontsize=25)\n",
    "    plt.xlabel(\"Batch correlation\", fontsize=25)\n",
    "    plt.xticks(fontsize=20)\n",
    "    plt.yticks(fontsize=20)\n",
    "    sns.despine()\n",
    "plt.tight_layout()\n",
    "\n",
    "plt.savefig(figure_path + str(date.today()) + \"_IMTM_HepG2_Percent_Replicating.pdf\", \n",
    "            transparent=False, \n",
    "            bbox_inches='tight', \n",
    "            dpi = 600)"
   ]
  },
  {
   "cell_type": "markdown",
   "id": "0037f1cb",
   "metadata": {},
   "source": [
    "# Compute Median for Induction\n",
    "\n",
    "Tox filtered\n",
    "\n",
    "Remove only toxic compounds\n",
    "\n",
    "Non Replicating compounds are not removed\n"
   ]
  },
  {
   "cell_type": "code",
   "execution_count": 14,
   "id": "56809a55",
   "metadata": {},
   "outputs": [],
   "source": [
    "## gets feature vector\n",
    "Features_HepG2_Norm_Reduced = UTIL.get_feature_vector(HepG2_Reduced_Tox)\n",
    "\n",
    "HepG2_Norm_Reduced_Median = pycytominer.consensus(\n",
    "        profiles = HepG2_Reduced_Tox, # A file or pandas DataFrame of profile data\n",
    "        replicate_columns = [\"Metadata_EOS\", \"Metadata_Plate\",\"Metadata_Concentration\", \"Metadata_Partner\"], # Metadata columns indicating which replicates to collapse, defaults to [“Metadata_Plate”, “Metadata_Well”]\n",
    "        operation = \"median\", # (str) – The method used to form consensus profiles, defaults to “median”\n",
    "        features = Features_HepG2_Norm_Reduced, # (str, list) – The features to collapse, defaults to “infer”\n",
    ")"
   ]
  },
  {
   "cell_type": "code",
   "execution_count": 15,
   "id": "9840c0cc",
   "metadata": {},
   "outputs": [
    {
     "data": {
      "text/plain": [
       "2349"
      ]
     },
     "execution_count": 15,
     "metadata": {},
     "output_type": "execute_result"
    }
   ],
   "source": [
    "len(HepG2_Norm_Reduced_Median[\"Metadata_EOS\"].unique())"
   ]
  },
  {
   "cell_type": "markdown",
   "id": "792d2db8",
   "metadata": {},
   "source": [
    "# Remove compounds with low acitivity"
   ]
  },
  {
   "cell_type": "code",
   "execution_count": 16,
   "id": "055063f6",
   "metadata": {},
   "outputs": [
    {
     "name": "stdout",
     "output_type": "stream",
     "text": [
      "HepG2 active: 676\n",
      "HepG2 low-active: 1673\n"
     ]
    }
   ],
   "source": [
    "key_col = [\"Metadata_EOS\", \"Metadata_Plate\", \"Metadata_Partner\"]\n",
    "\n",
    "HepG2_active, HepG2_low_active = UTIL.remove_low_active(HepG2_Norm_Reduced_Median, \n",
    "                                                   key_col,\n",
    "                                                   3.0, \n",
    "                                                   5.0)\n",
    "\n",
    "print(\"HepG2 active:\", len(HepG2_active[\"Metadata_EOS\"].unique()))\n",
    "print(\"HepG2 low-active:\", len(HepG2_low_active[\"Metadata_EOS\"].unique()))"
   ]
  },
  {
   "cell_type": "code",
   "execution_count": 17,
   "id": "0c012c5d",
   "metadata": {},
   "outputs": [],
   "source": [
    "HepG2_low_active_EOS = pd.DataFrame(HepG2_low_active[\"Metadata_EOS\"].unique(), columns = [\"Metadata_EOS\"])\n",
    "\n",
    "filename_HepG2_low_active = output_path +  str(date.today()) + \"_IMTM_HepG2_low-active.csv\"\n",
    "HepG2_low_active_EOS.to_csv(filename_HepG2_low_active, index = False)"
   ]
  },
  {
   "cell_type": "markdown",
   "id": "31b6e24a",
   "metadata": {},
   "source": [
    "## Filter non active compounds from non consensus dataframe"
   ]
  },
  {
   "cell_type": "code",
   "execution_count": 18,
   "id": "128ac0cb",
   "metadata": {},
   "outputs": [],
   "source": [
    "HepG2_Reduced_Tox_active = HepG2_Reduced_Tox[\n",
    "    (HepG2_Reduced_Tox['Metadata_EOS'].isin(HepG2_active['Metadata_EOS']))]"
   ]
  },
  {
   "cell_type": "markdown",
   "id": "6d26ba64",
   "metadata": {},
   "source": [
    "# % Replicating after Induction filter"
   ]
  },
  {
   "cell_type": "code",
   "execution_count": 19,
   "id": "fbddd0aa",
   "metadata": {},
   "outputs": [
    {
     "name": "stdout",
     "output_type": "stream",
     "text": [
      "| Description   |   Percent_Replicating |\n",
      "|:--------------|----------------------:|\n",
      "| Data_50       |                  86.8 |\n",
      "Nonreplicating conditions removed with threshold 0.43\n",
      "Old shape (2790, 637)\n",
      "New shape (2451, 637)\n"
     ]
    },
    {
     "name": "stderr",
     "output_type": "stream",
     "text": [
      "/home/schmiedc/FMP_Docs/Projects/Bioactives_data/notebooks/utility_functions.py:390: FutureWarning: The frame.append method is deprecated and will be removed from pandas in a future version. Use pandas.concat instead.\n",
      "  corr_replicating_df = corr_replicating_df.append({'Description': description,\n"
     ]
    }
   ],
   "source": [
    "HepG2_active_replicating, HepG2_active_corr_replicating_df = UTIL.remove_non_reproducible(\n",
    "    HepG2_Reduced_Tox_active, \n",
    "    n_samples = 10000, \n",
    "    n_replicates = 4, \n",
    "    ID_col = \"Metadata_EOS\", \n",
    "    description = \"Data_50\")"
   ]
  },
  {
   "cell_type": "code",
   "execution_count": 20,
   "id": "b794d47a",
   "metadata": {},
   "outputs": [],
   "source": [
    "filename_HepG2_Norm_Reduced_Filtered = output_path + str(date.today()) + \"_IMTM_HepG2_norm_reduced_filtered.csv\"\n",
    "HepG2_active_replicating.to_csv(filename_HepG2_Norm_Reduced_Filtered, index = False)"
   ]
  },
  {
   "cell_type": "code",
   "execution_count": 21,
   "id": "5371dd76",
   "metadata": {},
   "outputs": [],
   "source": [
    "# save non replicating compounds\n",
    "HepG2_non_replicating = HepG2_Reduced_Tox_active[\n",
    "    (~HepG2_Reduced_Tox_active['Metadata_EOS'].isin(HepG2_active_replicating['Metadata_EOS']))]\n",
    "\n",
    "HepG2_non_replicating_EOS = pd.DataFrame(HepG2_non_replicating[\"Metadata_EOS\"].unique(), columns = [\"Metadata_EOS\"])\n",
    "\n",
    "filename_HepG2_non_replicating = output_path +  str(date.today()) + \"_IMTM_HepG2_non-replicating.csv\"\n",
    "HepG2_non_replicating_EOS.to_csv(filename_HepG2_non_replicating, index = False)"
   ]
  },
  {
   "cell_type": "code",
   "execution_count": 22,
   "id": "cd15a8bf",
   "metadata": {},
   "outputs": [
    {
     "data": {
      "text/plain": [
       "89"
      ]
     },
     "execution_count": 22,
     "metadata": {},
     "output_type": "execute_result"
    }
   ],
   "source": [
    "len(HepG2_non_replicating['Metadata_EOS'].unique())"
   ]
  },
  {
   "cell_type": "code",
   "execution_count": 23,
   "id": "efe11e5c",
   "metadata": {},
   "outputs": [
    {
     "data": {
      "image/png": "[encoded data removed]",
      "text/plain": [
       "<Figure size 864x432 with 1 Axes>"
      ]
     },
     "metadata": {},
     "output_type": "display_data"
    }
   ],
   "source": [
    "# plot % replicating\n",
    "corr_replicating_df = HepG2_active_corr_replicating_df\n",
    "\n",
    "n_experiments = len(corr_replicating_df)\n",
    "\n",
    "\n",
    "plt.rcParams['figure.facecolor'] = 'white' # Enabling this makes the figure axes and labels visible in PyCharm Dracula theme\n",
    "plt.figure(figsize=[12, n_experiments*6])\n",
    "\n",
    "for i in range(n_experiments):\n",
    "    plt.subplot(n_experiments, 1, i+1)\n",
    "    plt.hist(corr_replicating_df.loc[i,'Null_Replicating'], label='non-replicates', density=True, bins=20, alpha=0.5)\n",
    "    plt.hist(corr_replicating_df.loc[i,'Replicating'], label='replicates', density=True, bins=20, alpha=0.5)\n",
    "    plt.axvline(corr_replicating_df.loc[i,'Value_95'], label='95% threshold')\n",
    "    plt.legend(fontsize=20)\n",
    "    plt.title(\n",
    "        f\"{corr_replicating_df.loc[i,'Description']}\\n\" +\n",
    "        f\"Percent Replicating = {corr_replicating_df.loc[i,'Percent_Replicating']}\",\n",
    "        fontsize=25\n",
    "    )\n",
    "    plt.ylabel(\"density\", fontsize=25)\n",
    "    plt.xlabel(\"Batch correlation\", fontsize=25)\n",
    "    plt.xticks(fontsize=20)\n",
    "    plt.yticks(fontsize=20)\n",
    "    sns.despine()\n",
    "plt.tight_layout()\n",
    "\n",
    "plt.savefig(figure_path + str(date.today()) + \"_IMTM_HepG2_Percent_Replicating_Induction_Filter.pdf\", \n",
    "            transparent=False, \n",
    "            bbox_inches='tight', \n",
    "            dpi = 600)# "
   ]
  },
  {
   "cell_type": "markdown",
   "id": "fbfbe74a",
   "metadata": {},
   "source": [
    "# Consensus Tox, Induction, Replication Filter"
   ]
  },
  {
   "cell_type": "code",
   "execution_count": 24,
   "id": "0aba3cf1",
   "metadata": {},
   "outputs": [],
   "source": [
    "## gets feature vector\n",
    "Features_HepG2_Norm_Reduced_Filtered = UTIL.get_feature_vector(HepG2_active_replicating)\n",
    "\n",
    "HepG2_Norm_Reduced_Filtered_Median = pycytominer.consensus(\n",
    "        profiles = HepG2_active_replicating, # A file or pandas DataFrame of profile data\n",
    "        replicate_columns = [\"Metadata_EOS\", \"Metadata_Plate\", \"Metadata_Concentration\", \"Metadata_Partner\"], # Metadata columns indicating which replicates to collapse, defaults to [“Metadata_Plate”, “Metadata_Well”]\n",
    "        operation = \"median\", # (str) – The method used to form consensus profiles, defaults to “median”\n",
    "        features = Features_HepG2_Norm_Reduced, # (str, list) – The features to collapse, defaults to “infer”\n",
    ")"
   ]
  },
  {
   "cell_type": "code",
   "execution_count": 25,
   "id": "d8baff59",
   "metadata": {},
   "outputs": [
    {
     "data": {
      "text/plain": [
       "587"
      ]
     },
     "execution_count": 25,
     "metadata": {},
     "output_type": "execute_result"
    }
   ],
   "source": [
    "len(HepG2_Norm_Reduced_Filtered_Median[\"Metadata_EOS\"].unique())"
   ]
  },
  {
   "cell_type": "code",
   "execution_count": 26,
   "id": "6d7f09fa",
   "metadata": {},
   "outputs": [],
   "source": [
    "filename_HepG2_Norm_Reduced_Filtered_Median = output_path + str(date.today()) + \"_IMTM_HepG2_norm_reduced_filtered_median.csv\"\n",
    "HepG2_Norm_Reduced_Filtered_Median.to_csv(filename_HepG2_Norm_Reduced_Filtered_Median, index = False)"
   ]
  },
  {
   "cell_type": "markdown",
   "id": "2a804130",
   "metadata": {},
   "source": [
    "# Get non-active compounds"
   ]
  },
  {
   "cell_type": "code",
   "execution_count": 27,
   "id": "2a1bdd3d",
   "metadata": {},
   "outputs": [],
   "source": [
    "HepG2_non_replicating_merge = pd.merge(HepG2_active,\n",
    "                                HepG2_Norm_Reduced_Filtered_Median,\n",
    "                                on = [\"Metadata_EOS\"],\n",
    "                                how = \"outer\",\n",
    "                                indicator = True)\n",
    "\n",
    "HepG2_non_replicating = HepG2_non_replicating_merge[\n",
    "    HepG2_non_replicating_merge[\"_merge\"] == 'left_only'].dropna(axis='columns')"
   ]
  },
  {
   "cell_type": "code",
   "execution_count": 28,
   "id": "06a1d8ed",
   "metadata": {},
   "outputs": [
    {
     "data": {
      "text/plain": [
       "both          683\n",
       "left_only      89\n",
       "right_only      0\n",
       "Name: _merge, dtype: int64"
      ]
     },
     "execution_count": 28,
     "metadata": {},
     "output_type": "execute_result"
    }
   ],
   "source": [
    "HepG2_non_replicating_merge['_merge'].value_counts()"
   ]
  }
 ],
 "metadata": {
  "kernelspec": {
   "display_name": "Python 3",
   "language": "python",
   "name": "python3"
  },
  "language_info": {
   "codemirror_mode": {
    "name": "ipython",
    "version": 3
   },
   "file_extension": ".py",
   "mimetype": "text/x-python",
   "name": "python",
   "nbconvert_exporter": "python",
   "pygments_lexer": "ipython3",
   "version": "3.9.16"
  }
 },
 "nbformat": 4,
 "nbformat_minor": 5
}
