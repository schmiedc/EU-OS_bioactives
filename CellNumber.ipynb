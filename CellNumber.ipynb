{
 "cells": [
  {
   "cell_type": "code",
   "execution_count": 1,
   "id": "91f10b38",
   "metadata": {},
   "outputs": [],
   "source": [
    "from datetime import date\n",
    "import pandas as pd\n",
    "import os\n",
    "import glob\n",
    "import matplotlib.pyplot as plt\n",
    "import seaborn as sns"
   ]
  },
  {
   "cell_type": "code",
   "execution_count": 2,
   "id": "54fa37e0",
   "metadata": {},
   "outputs": [],
   "source": [
    "parent_directory = \"/home/schmiedc/FMP_Docs/Projects/Bioactives_data/\"\n",
    "\n",
    "input_path = parent_directory + \"results/\"\n",
    "output_path = input_path\n",
    "\n",
    "figure_path = parent_directory + \"figures/\""
   ]
  },
  {
   "cell_type": "markdown",
   "id": "ce3731be",
   "metadata": {},
   "source": [
    "# Input data"
   ]
  },
  {
   "cell_type": "code",
   "execution_count": 3,
   "id": "aa21abb4",
   "metadata": {},
   "outputs": [
    {
     "data": {
      "text/plain": [
       "(10629, 2984)"
      ]
     },
     "execution_count": 3,
     "metadata": {},
     "output_type": "execute_result"
    }
   ],
   "source": [
    "# data_HepG2_Norm = pd.read_csv(input_path + \"2023-04-11_Bioactives_HepG2_norm.csv\")\n",
    "FMP_U2OS_Norm_file_name = '/*[0-9]_' + 'FMP_U2OS_norm.csv'\n",
    "FMP_U2OS_Norm_path = glob.glob(input_path + FMP_U2OS_Norm_file_name)\n",
    "\n",
    "### gets latest file\n",
    "max_FMP_U2OS_Norm = max(FMP_U2OS_Norm_path, key=os.path.getctime)\n",
    "\n",
    "### load file\n",
    "FMP_U2OS_Norm = pd.read_csv(max_FMP_U2OS_Norm)\n",
    "FMP_U2OS_Norm.shape"
   ]
  },
  {
   "cell_type": "code",
   "execution_count": 4,
   "id": "94a54035",
   "metadata": {},
   "outputs": [
    {
     "data": {
      "text/plain": [
       "(10697, 2984)"
      ]
     },
     "execution_count": 4,
     "metadata": {},
     "output_type": "execute_result"
    }
   ],
   "source": [
    "# data_HepG2_Norm = pd.read_csv(input_path + \"2023-04-11_Bioactives_HepG2_norm.csv\")\n",
    "FMP_HepG2_Norm_file_name = '/*[0-9]_' + 'FMP_HepG2_norm.csv'\n",
    "FMP_HepG2_Norm_path = glob.glob(input_path + FMP_HepG2_Norm_file_name)\n",
    "\n",
    "### gets latest file\n",
    "max_FMP_HepG2_Norm = max(FMP_HepG2_Norm_path, key=os.path.getctime)\n",
    "\n",
    "### load file\n",
    "FMP_HepG2_Norm = pd.read_csv(max_FMP_HepG2_Norm)\n",
    "FMP_HepG2_Norm.shape"
   ]
  },
  {
   "cell_type": "code",
   "execution_count": 5,
   "id": "38a03481",
   "metadata": {},
   "outputs": [
    {
     "data": {
      "text/plain": [
       "(10668, 2984)"
      ]
     },
     "execution_count": 5,
     "metadata": {},
     "output_type": "execute_result"
    }
   ],
   "source": [
    "# data_HepG2_Norm = pd.read_csv(input_path + \"2023-04-11_Bioactives_HepG2_norm.csv\")\n",
    "IMTM_HepG2_Norm_file_name = '/*[0-9]_' + 'IMTM_HepG2_norm.csv'\n",
    "IMTM_HepG2_Norm_path = glob.glob(input_path + IMTM_HepG2_Norm_file_name)\n",
    "\n",
    "### gets latest file\n",
    "max_IMTM_HepG2_Norm = max(IMTM_HepG2_Norm_path, key=os.path.getctime)\n",
    "\n",
    "### load file\n",
    "IMTM_HepG2_Norm = pd.read_csv(max_IMTM_HepG2_Norm)\n",
    "IMTM_HepG2_Norm.shape"
   ]
  },
  {
   "cell_type": "code",
   "execution_count": 6,
   "id": "dc8b7fde",
   "metadata": {},
   "outputs": [
    {
     "data": {
      "text/plain": [
       "(10735, 2984)"
      ]
     },
     "execution_count": 6,
     "metadata": {},
     "output_type": "execute_result"
    }
   ],
   "source": [
    "# data_HepG2_Norm = pd.read_csv(input_path + \"2023-04-11_Bioactives_HepG2_norm.csv\")\n",
    "MEDI_HepG2_Norm_file_name = '/*[0-9]_' + 'MEDINA_HepG2_norm.csv'\n",
    "MEDI_HepG2_Norm_path = glob.glob(input_path + MEDI_HepG2_Norm_file_name)\n",
    "\n",
    "### gets latest file\n",
    "max_MEDI_HepG2_Norm = max(MEDI_HepG2_Norm_path, key=os.path.getctime)\n",
    "\n",
    "### load file\n",
    "MEDI_HepG2_Norm = pd.read_csv(max_MEDI_HepG2_Norm)\n",
    "MEDI_HepG2_Norm.shape"
   ]
  },
  {
   "cell_type": "code",
   "execution_count": 7,
   "id": "21cf9c06",
   "metadata": {},
   "outputs": [
    {
     "data": {
      "text/plain": [
       "(10747, 2984)"
      ]
     },
     "execution_count": 7,
     "metadata": {},
     "output_type": "execute_result"
    }
   ],
   "source": [
    "# data_HepG2_Norm = pd.read_csv(input_path + \"2023-04-11_Bioactives_HepG2_norm.csv\")\n",
    "USC_HepG2_Norm_file_name = '/*[0-9]_' + 'USC_HepG2_norm.csv'\n",
    "USC_HepG2_Norm_path = glob.glob(input_path + USC_HepG2_Norm_file_name)\n",
    "\n",
    "### gets latest file\n",
    "max_USC_HepG2_Norm = max(USC_HepG2_Norm_path, key=os.path.getctime)\n",
    "\n",
    "### load file\n",
    "USC_HepG2_Norm = pd.read_csv(max_USC_HepG2_Norm)\n",
    "USC_HepG2_Norm.shape"
   ]
  },
  {
   "cell_type": "markdown",
   "id": "27b6a1b7",
   "metadata": {},
   "source": [
    "# Process data"
   ]
  },
  {
   "cell_type": "code",
   "execution_count": 8,
   "id": "44e55a0a",
   "metadata": {},
   "outputs": [],
   "source": [
    "FMP_U2OS_Norm_mod = FMP_U2OS_Norm[\n",
    "    FMP_U2OS_Norm.columns[\n",
    "        FMP_U2OS_Norm.columns.isin(\n",
    "            [\"Metadata_EOS\", \n",
    "             \"Metadata_Well\", \n",
    "             \"Metadata_Batch\", \n",
    "             \"Metadata_Plate\", \n",
    "             \"Metadata_Object_Count\"])]]"
   ]
  },
  {
   "cell_type": "code",
   "execution_count": 9,
   "id": "b29e3b07",
   "metadata": {},
   "outputs": [],
   "source": [
    "FMP_HepG2_Norm_mod = FMP_HepG2_Norm[\n",
    "    FMP_HepG2_Norm.columns[\n",
    "        FMP_HepG2_Norm.columns.isin(\n",
    "            [\"Metadata_EOS\", \n",
    "             \"Metadata_Well\", \n",
    "             \"Metadata_Batch\", \n",
    "             \"Metadata_Plate\", \n",
    "             \"Metadata_Object_Count\"])]]"
   ]
  },
  {
   "cell_type": "code",
   "execution_count": 10,
   "id": "cda3fa8a",
   "metadata": {},
   "outputs": [],
   "source": [
    "IMTM_HepG2_Norm_mod = IMTM_HepG2_Norm[\n",
    "    IMTM_HepG2_Norm.columns[\n",
    "        IMTM_HepG2_Norm.columns.isin(\n",
    "            [\"Metadata_EOS\", \n",
    "             \"Metadata_Well\", \n",
    "             \"Metadata_Batch\", \n",
    "             \"Metadata_Plate\", \n",
    "             \"Metadata_Object_Count\"])]]"
   ]
  },
  {
   "cell_type": "code",
   "execution_count": 11,
   "id": "7880a95c",
   "metadata": {},
   "outputs": [],
   "source": [
    "MEDI_HepG2_Norm_mod = MEDI_HepG2_Norm[\n",
    "    MEDI_HepG2_Norm.columns[\n",
    "        MEDI_HepG2_Norm.columns.isin(\n",
    "            [\"Metadata_EOS\", \n",
    "             \"Metadata_Well\", \n",
    "             \"Metadata_Batch\", \n",
    "             \"Metadata_Plate\", \n",
    "             \"Metadata_Object_Count\"])]]"
   ]
  },
  {
   "cell_type": "code",
   "execution_count": 12,
   "id": "4e7b5505",
   "metadata": {},
   "outputs": [],
   "source": [
    "USC_HepG2_Norm_mod = USC_HepG2_Norm[\n",
    "    USC_HepG2_Norm.columns[\n",
    "        USC_HepG2_Norm.columns.isin(\n",
    "            [\"Metadata_EOS\", \n",
    "             \"Metadata_Well\", \n",
    "             \"Metadata_Batch\", \n",
    "             \"Metadata_Plate\", \n",
    "             \"Metadata_Object_Count\"])]]"
   ]
  },
  {
   "cell_type": "code",
   "execution_count": 13,
   "id": "5e5f97d1",
   "metadata": {},
   "outputs": [],
   "source": [
    "cell_number_FMP_IMTM = pd.merge(FMP_HepG2_Norm_mod,\n",
    "                       IMTM_HepG2_Norm_mod,\n",
    "                       suffixes = [\"_FMP\", \"_IMTM\"],\n",
    "                       on = [\"Metadata_EOS\", \n",
    "                             \"Metadata_Well\", \n",
    "                             \"Metadata_Batch\", \n",
    "                             \"Metadata_Plate\"],\n",
    "                       how = \"outer\")"
   ]
  },
  {
   "cell_type": "code",
   "execution_count": 14,
   "id": "9c169eda",
   "metadata": {},
   "outputs": [],
   "source": [
    "cell_number_FMP_IMTM_MEDI = pd.merge(cell_number_FMP_IMTM,\n",
    "                       MEDI_HepG2_Norm_mod,\n",
    "                       on = [\"Metadata_EOS\", \n",
    "                             \"Metadata_Well\", \n",
    "                             \"Metadata_Batch\", \n",
    "                             \"Metadata_Plate\"],\n",
    "                       how = \"outer\")"
   ]
  },
  {
   "cell_type": "code",
   "execution_count": 15,
   "id": "14b8c958",
   "metadata": {},
   "outputs": [],
   "source": [
    "cell_number_FMP_IMTM_MEDI = cell_number_FMP_IMTM_MEDI.rename(columns={\"Metadata_Object_Count\": \"Metadata_Object_Count_MEDI\"})"
   ]
  },
  {
   "cell_type": "code",
   "execution_count": 16,
   "id": "b03364f4",
   "metadata": {},
   "outputs": [
    {
     "data": {
      "text/html": [
       "<div>\n",
       "<style scoped>\n",
       "    .dataframe tbody tr th:only-of-type {\n",
       "        vertical-align: middle;\n",
       "    }\n",
       "\n",
       "    .dataframe tbody tr th {\n",
       "        vertical-align: top;\n",
       "    }\n",
       "\n",
       "    .dataframe thead th {\n",
       "        text-align: right;\n",
       "    }\n",
       "</style>\n",
       "<table border=\"1\" class=\"dataframe\">\n",
       "  <thead>\n",
       "    <tr style=\"text-align: right;\">\n",
       "      <th></th>\n",
       "      <th>Metadata_EOS</th>\n",
       "      <th>Metadata_Object_Count_FMP</th>\n",
       "      <th>Metadata_Plate</th>\n",
       "      <th>Metadata_Well</th>\n",
       "      <th>Metadata_Batch</th>\n",
       "      <th>Metadata_Object_Count_IMTM</th>\n",
       "      <th>Metadata_Object_Count_MEDI</th>\n",
       "    </tr>\n",
       "  </thead>\n",
       "  <tbody>\n",
       "    <tr>\n",
       "      <th>0</th>\n",
       "      <td>EOS100001</td>\n",
       "      <td>700.0</td>\n",
       "      <td>B1001</td>\n",
       "      <td>A01</td>\n",
       "      <td>R1</td>\n",
       "      <td>401.0</td>\n",
       "      <td>1424.0</td>\n",
       "    </tr>\n",
       "    <tr>\n",
       "      <th>1</th>\n",
       "      <td>EOS100002</td>\n",
       "      <td>1004.0</td>\n",
       "      <td>B1001</td>\n",
       "      <td>C01</td>\n",
       "      <td>R1</td>\n",
       "      <td>967.0</td>\n",
       "      <td>1849.0</td>\n",
       "    </tr>\n",
       "    <tr>\n",
       "      <th>2</th>\n",
       "      <td>EOS100003</td>\n",
       "      <td>516.0</td>\n",
       "      <td>B1001</td>\n",
       "      <td>E01</td>\n",
       "      <td>R1</td>\n",
       "      <td>470.0</td>\n",
       "      <td>925.0</td>\n",
       "    </tr>\n",
       "    <tr>\n",
       "      <th>3</th>\n",
       "      <td>EOS100004</td>\n",
       "      <td>792.0</td>\n",
       "      <td>B1001</td>\n",
       "      <td>G01</td>\n",
       "      <td>R1</td>\n",
       "      <td>1112.0</td>\n",
       "      <td>1947.0</td>\n",
       "    </tr>\n",
       "    <tr>\n",
       "      <th>4</th>\n",
       "      <td>EOS100005</td>\n",
       "      <td>857.0</td>\n",
       "      <td>B1001</td>\n",
       "      <td>I01</td>\n",
       "      <td>R1</td>\n",
       "      <td>457.0</td>\n",
       "      <td>2024.0</td>\n",
       "    </tr>\n",
       "  </tbody>\n",
       "</table>\n",
       "</div>"
      ],
      "text/plain": [
       "  Metadata_EOS  Metadata_Object_Count_FMP Metadata_Plate Metadata_Well  \\\n",
       "0    EOS100001                      700.0          B1001           A01   \n",
       "1    EOS100002                     1004.0          B1001           C01   \n",
       "2    EOS100003                      516.0          B1001           E01   \n",
       "3    EOS100004                      792.0          B1001           G01   \n",
       "4    EOS100005                      857.0          B1001           I01   \n",
       "\n",
       "  Metadata_Batch  Metadata_Object_Count_IMTM  Metadata_Object_Count_MEDI  \n",
       "0             R1                       401.0                      1424.0  \n",
       "1             R1                       967.0                      1849.0  \n",
       "2             R1                       470.0                       925.0  \n",
       "3             R1                      1112.0                      1947.0  \n",
       "4             R1                       457.0                      2024.0  "
      ]
     },
     "execution_count": 16,
     "metadata": {},
     "output_type": "execute_result"
    }
   ],
   "source": [
    "cell_number_FMP_IMTM_MEDI.head()"
   ]
  },
  {
   "cell_type": "code",
   "execution_count": 17,
   "id": "23189dbd",
   "metadata": {},
   "outputs": [],
   "source": [
    "cell_number_FMP_IMTM_MEDI_USC = pd.merge(cell_number_FMP_IMTM_MEDI,\n",
    "                       USC_HepG2_Norm_mod,\n",
    "                       on = [\"Metadata_EOS\", \"Metadata_Well\", \"Metadata_Batch\", \"Metadata_Plate\"],\n",
    "                       how = \"outer\")"
   ]
  },
  {
   "cell_type": "code",
   "execution_count": 18,
   "id": "fd441fa7",
   "metadata": {},
   "outputs": [],
   "source": [
    "cell_number_FMP_IMTM_MEDI_USC = cell_number_FMP_IMTM_MEDI_USC.rename(columns={\"Metadata_Object_Count\": \"Metadata_Object_Count_USC\"})"
   ]
  },
  {
   "cell_type": "code",
   "execution_count": 19,
   "id": "c455e4cf",
   "metadata": {},
   "outputs": [
    {
     "data": {
      "image/png": "[encoded data removed]",
      "text/plain": [
       "<Figure size 576x288 with 5 Axes>"
      ]
     },
     "metadata": {
      "needs_background": "light"
     },
     "output_type": "display_data"
    }
   ],
   "source": [
    "import matplotlib.ticker as ticker\n",
    "\n",
    "fig, (ax1, ax2, ax3, ax4, ax5)= plt.subplots(1,5, sharex=True, sharey=True)\n",
    "\n",
    "tick_spacing = 500\n",
    "\n",
    "ax1.title.set_text('FMP U2OS')\n",
    "ax2.title.set_text('FMP HepG2')\n",
    "ax3.title.set_text('IMTM HepG2')\n",
    "ax4.title.set_text('MEDI HepG2')\n",
    "ax5.title.set_text('USC HepG2')\n",
    "\n",
    "fig.tight_layout(pad=1.5)\n",
    "\n",
    "sns.boxplot(data=FMP_U2OS_Norm, y=\"Metadata_Object_Count\", ax = ax1)\n",
    "sns.boxplot(data=FMP_HepG2_Norm, y=\"Metadata_Object_Count\", ax = ax2)\n",
    "sns.boxplot(data=IMTM_HepG2_Norm, y=\"Metadata_Object_Count\", ax = ax3)\n",
    "sns.boxplot(data=MEDI_HepG2_Norm, y=\"Metadata_Object_Count\", ax = ax4)\n",
    "sns.boxplot(data=USC_HepG2_Norm, y=\"Metadata_Object_Count\", ax = ax5)\n",
    "\n",
    "fig.set_figwidth(8)\n",
    "\n",
    "plt.savefig(figure_path + str(date.today()) + '_CellNumber_all_box.pdf',  dpi=300)"
   ]
  },
  {
   "cell_type": "code",
   "execution_count": 20,
   "id": "f5bd8c7a",
   "metadata": {},
   "outputs": [
    {
     "data": {
      "image/png": "[encoded data removed]",
      "text/plain": [
       "<Figure size 576x288 with 5 Axes>"
      ]
     },
     "metadata": {
      "needs_background": "light"
     },
     "output_type": "display_data"
    }
   ],
   "source": [
    "fig, (ax1, ax2, ax3, ax4, ax5)= plt.subplots(1,5, sharex=True, sharey=True)\n",
    "\n",
    "fig.autofmt_xdate()\n",
    "\n",
    "ax1.title.set_text('FMP U2OS')\n",
    "ax1.tick_params(axis='x', labelrotation = 90)\n",
    "\n",
    "ax2.title.set_text('FMP HepG2')\n",
    "ax2.tick_params(axis='x', labelrotation = 90)\n",
    "\n",
    "ax3.title.set_text('IMTM HepG2')\n",
    "ax3.tick_params(axis='x', labelrotation = 90)\n",
    "\n",
    "ax4.title.set_text('MEDI HepG2')\n",
    "ax4.tick_params(axis='x', labelrotation = 90)\n",
    "\n",
    "ax5.title.set_text('USC HepG2')\n",
    "ax5.tick_params(axis='x', labelrotation = 90)\n",
    "\n",
    "fig.tight_layout(pad=0.5)\n",
    "\n",
    "sns.histplot(data=FMP_U2OS_Norm, x=\"Metadata_Object_Count\", ax = ax1)\n",
    "sns.histplot(data=FMP_HepG2_Norm, x=\"Metadata_Object_Count\", ax = ax2)\n",
    "sns.histplot(data=IMTM_HepG2_Norm, x=\"Metadata_Object_Count\", ax = ax3)\n",
    "sns.histplot(data=MEDI_HepG2_Norm, x=\"Metadata_Object_Count\", ax = ax4)\n",
    "sns.histplot(data=USC_HepG2_Norm, x=\"Metadata_Object_Count\", ax = ax5)\n",
    "\n",
    "fig.set_figwidth(8)\n",
    "\n",
    "plt.savefig(figure_path + str(date.today()) + '_CellNumber_all_histo.pdf',  dpi=300)"
   ]
  },
  {
   "cell_type": "code",
   "execution_count": 21,
   "id": "c69dbab9",
   "metadata": {},
   "outputs": [],
   "source": [
    "# plot cell numbers of controls\n",
    "FMP_U2OS_Norm_Controls = FMP_U2OS_Norm[(FMP_U2OS_Norm[\"Metadata_EOS\"] == \"DMSO\") |\n",
    "                                    (FMP_U2OS_Norm[\"Metadata_EOS\"] == \"Nocodazole\") |\n",
    "                                    (FMP_U2OS_Norm[\"Metadata_EOS\"] == \"Tetrandrine\") ]"
   ]
  },
  {
   "cell_type": "code",
   "execution_count": 22,
   "id": "0d409671",
   "metadata": {},
   "outputs": [],
   "source": [
    "# plot cell numbers of controls\n",
    "FMP_HepG2_Norm_Controls = FMP_HepG2_Norm[(FMP_HepG2_Norm[\"Metadata_EOS\"] == \"DMSO\") |\n",
    "                                    (FMP_HepG2_Norm[\"Metadata_EOS\"] == \"Nocodazole\") |\n",
    "                                    (FMP_HepG2_Norm[\"Metadata_EOS\"] == \"Tetrandrine\") ]"
   ]
  },
  {
   "cell_type": "code",
   "execution_count": 23,
   "id": "0340ef62",
   "metadata": {},
   "outputs": [],
   "source": [
    "# plot cell numbers of controls\n",
    "IMTM_HepG2_Norm_Controls = IMTM_HepG2_Norm[(IMTM_HepG2_Norm[\"Metadata_EOS\"] == \"DMSO\") |\n",
    "                                    (IMTM_HepG2_Norm[\"Metadata_EOS\"] == \"Nocodazole\") |\n",
    "                                    (IMTM_HepG2_Norm[\"Metadata_EOS\"] == \"Tetrandrine\") ]"
   ]
  },
  {
   "cell_type": "code",
   "execution_count": 24,
   "id": "a95f2bc2",
   "metadata": {},
   "outputs": [],
   "source": [
    "# plot cell numbers of controls\n",
    "MEDI_HepG2_Norm_Controls = MEDI_HepG2_Norm[(MEDI_HepG2_Norm[\"Metadata_EOS\"] == \"DMSO\") |\n",
    "                                    (MEDI_HepG2_Norm[\"Metadata_EOS\"] == \"Nocodazole\") |\n",
    "                                    (MEDI_HepG2_Norm[\"Metadata_EOS\"] == \"Tetrandrine\") ]"
   ]
  },
  {
   "cell_type": "code",
   "execution_count": 25,
   "id": "666769b3",
   "metadata": {},
   "outputs": [],
   "source": [
    "# plot cell numbers of controls\n",
    "USC_HepG2_Norm_Controls = USC_HepG2_Norm[(USC_HepG2_Norm[\"Metadata_EOS\"] == \"DMSO\") |\n",
    "                                    (USC_HepG2_Norm[\"Metadata_EOS\"] == \"Nocodazole\") |\n",
    "                                    (USC_HepG2_Norm[\"Metadata_EOS\"] == \"Tetrandrine\") ]"
   ]
  },
  {
   "cell_type": "code",
   "execution_count": 26,
   "id": "7bb6a893",
   "metadata": {},
   "outputs": [
    {
     "data": {
      "image/png": "[encoded data removed]",
      "text/plain": [
       "<Figure size 576x288 with 5 Axes>"
      ]
     },
     "metadata": {
      "needs_background": "light"
     },
     "output_type": "display_data"
    }
   ],
   "source": [
    "fig, (ax1, ax2, ax3, ax4, ax5)= plt.subplots(1,5, sharex=True, sharey=True)\n",
    "\n",
    "fig.autofmt_xdate()\n",
    "\n",
    "\n",
    "ax1.title.set_text('FMP U2OS')\n",
    "ax2.title.set_text('FMP HepG2')\n",
    "ax3.title.set_text('IMTM HepG2')\n",
    "ax4.title.set_text('MEDI HepG2')\n",
    "ax5.title.set_text('USC HepG2')\n",
    "\n",
    "fig.tight_layout(pad=1)\n",
    "\n",
    "plot_order = order=['DMSO', 'Tetrandrine', 'Nocodazole']\n",
    "\n",
    "sns.boxplot(data=FMP_U2OS_Norm_Controls, y=\"Metadata_Object_Count\", x=\"Metadata_EOS\", ax=ax1, order=plot_order)\n",
    "sns.boxplot(data=FMP_HepG2_Norm_Controls, y=\"Metadata_Object_Count\", x=\"Metadata_EOS\", ax=ax2, order=plot_order)\n",
    "sns.boxplot(data=IMTM_HepG2_Norm_Controls, y=\"Metadata_Object_Count\", x=\"Metadata_EOS\", ax=ax3, order=plot_order)\n",
    "sns.boxplot(data=MEDI_HepG2_Norm_Controls, y=\"Metadata_Object_Count\", x=\"Metadata_EOS\", ax=ax4, order=plot_order)\n",
    "sns.boxplot(data=USC_HepG2_Norm_Controls, y=\"Metadata_Object_Count\", x=\"Metadata_EOS\", ax=ax5, order=plot_order)\n",
    "\n",
    "#fig.set_figheight(15)\n",
    "fig.set_figwidth(8)\n",
    "\n",
    "plt.savefig(figure_path + str(date.today()) + '_CellNumber_all_controls.pdf',  dpi=300)"
   ]
  }
 ],
 "metadata": {
  "kernelspec": {
   "display_name": "Python 3",
   "language": "python",
   "name": "python3"
  },
  "language_info": {
   "codemirror_mode": {
    "name": "ipython",
    "version": 3
   },
   "file_extension": ".py",
   "mimetype": "text/x-python",
   "name": "python",
   "nbconvert_exporter": "python",
   "pygments_lexer": "ipython3",
   "version": "3.9.16"
  }
 },
 "nbformat": 4,
 "nbformat_minor": 5
}
